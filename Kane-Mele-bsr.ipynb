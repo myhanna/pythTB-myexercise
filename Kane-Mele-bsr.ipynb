{
 "cells": [
  {
   "cell_type": "code",
   "execution_count": 1,
   "id": "champion-company",
   "metadata": {},
   "outputs": [],
   "source": [
    "# -----------------------------------------------\n",
    "# Tight-binding 2D Kane-Mele model\n",
    "# C.L. Kane and E.J. Mele, PRL 95, 146802 (2005)\n",
    "# ----------------------------------------------\n",
    "\n",
    "from __future__ import print_function # python3 style print\n",
    "from pythtb import * # import TB model class\n",
    "\n",
    "import matplotlib.pyplot as plt\n",
    "from matplotlib import rcParams, cm\n",
    "%matplotlib inline\n",
    "rcParams.update({\"text.usetex\": True, \"font.size\": 16})"
   ]
  },
  {
   "cell_type": "code",
   "execution_count": 2,
   "id": "virtual-counter",
   "metadata": {},
   "outputs": [],
   "source": [
    "# set model parameters\n",
    "delta=0.7     # site energy\n",
    "t=-1.0        # spin-independent first-neighbor hop\n",
    "rashba=0.05   # spin-flip first-neighbor hop\n",
    "soc_list=[-0.06,-0.24] # spin-dependent second-neighbor hop\n",
    "\n",
    "def set_model(t,soc,rashba,delta):\n",
    "\n",
    "  # set up Kane-Mele model\n",
    "  lat=[[1.0,0.0],[0.5,np.sqrt(3.0)/2.0]]\n",
    "  orb=[[1./3.,1./3.],[2./3.,2./3.]]\n",
    "  model=tb_model(2,2,lat,orb,nspin=2)\n",
    "  model.set_onsite([delta,-delta])\n",
    "\n",
    "  # definitions of Pauli matrices\n",
    "  sigma_x=np.array([0.,1.,0.,0])\n",
    "  sigma_y=np.array([0.,0.,1.,0])\n",
    "  sigma_z=np.array([0.,0.,0.,1])\n",
    "  r3h =np.sqrt(3.0)/2.0\n",
    "  sigma_a= 0.5*sigma_x-r3h*sigma_y\n",
    "  sigma_b= 0.5*sigma_x+r3h*sigma_y\n",
    "  sigma_c=-1.0*sigma_x\n",
    "\n",
    "  # spin-independent first-neighbor hops\n",
    "  for lvec in ([ 0, 0], [-1, 0], [ 0,-1]):\n",
    "    model.set_hop(t, 0, 1, lvec)\n",
    "  # spin-dependent second-neighbor hops\n",
    "  for lvec in ([ 1, 0], [-1, 1], [ 0,-1]):\n",
    "    model.set_hop(soc*1.j*sigma_z, 0, 0, lvec)\n",
    "  for lvec in ([-1, 0], [ 1,-1], [ 0, 1]):\n",
    "    model.set_hop(soc*1.j*sigma_z, 1, 1, lvec)\n",
    "  # spin-flip first-neighbor hops\n",
    "  model.set_hop(1.j*rashba*sigma_a, 0, 1, [ 0, 0], mode=\"add\")\n",
    "  model.set_hop(1.j*rashba*sigma_b, 0, 1, [-1, 0], mode=\"add\")\n",
    "  model.set_hop(1.j*rashba*sigma_c, 0, 1, [ 0,-1], mode=\"add\")\n",
    "\n",
    "  return model"
   ]
  },
  {
   "cell_type": "code",
   "execution_count": 3,
   "id": "antique-mauritius",
   "metadata": {},
   "outputs": [
    {
     "name": "stdout",
     "output_type": "stream",
     "text": [
      "----- k_path report begin ----------\n",
      "real-space lattice vectors\n",
      " [[1.      0.     ]\n",
      " [0.5     0.86603]]\n",
      "k-space metric tensor\n",
      " [[ 1.33333 -0.66667]\n",
      " [-0.66667  1.33333]]\n",
      "internal coordinates of nodes\n",
      " [[0.      0.     ]\n",
      " [0.66667 0.33333]\n",
      " [0.5     0.5    ]\n",
      " [0.33333 0.66667]\n",
      " [0.      0.     ]]\n",
      "reciprocal-space lattice vectors\n",
      " [[ 1.      -0.57735]\n",
      " [ 0.       1.1547 ]]\n",
      "cartesian coordinates of nodes\n",
      " [[0.      0.     ]\n",
      " [0.66667 0.     ]\n",
      " [0.5     0.28868]\n",
      " [0.33333 0.57735]\n",
      " [0.      0.     ]]\n",
      "list of segments:\n",
      "  length = 0.66667  from  [0. 0.]  to  [0.66667 0.33333]\n",
      "  length = 0.33333  from  [0.66667 0.33333]  to  [0.5 0.5]\n",
      "  length = 0.33333  from  [0.5 0.5]  to  [0.33333 0.66667]\n",
      "  length = 0.66667  from  [0.33333 0.66667]  to  [0. 0.]\n",
      "node distance list: [0.      0.66667 1.      1.33333 2.     ]\n",
      "node index list:    [  0  33  50  67 100]\n",
      "----- k_path report end ------------\n",
      "\n"
     ]
    }
   ],
   "source": [
    "# construct path in k-space and solve model\n",
    "path=[[0.,0.],[2./3.,1./3.],[.5,.5],[1./3.,2./3.], [0.,0.]]\n",
    "label=(r'$\\Gamma $',r'$K$', r'$M$', r'$K^\\prime$', r'$\\Gamma $')\n",
    "(k_vec,k_dist,k_node)=set_model(t,0.,rashba,delta).k_path(path,101)"
   ]
  },
  {
   "cell_type": "code",
   "execution_count": 4,
   "id": "private-siemens",
   "metadata": {},
   "outputs": [
    {
     "data": {
      "image/png": "[encoded data removed]",
      "text/plain": [
       "<Figure size 576x216 with 2 Axes>"
      ]
     },
     "metadata": {
      "needs_background": "light"
     },
     "output_type": "display_data"
    }
   ],
   "source": [
    "# set up band structure plots\n",
    "fig, ax = plt.subplots(1,2,figsize=(8.,3.))\n",
    "\n",
    "labs=['(a)','(b)']\n",
    "for j in range(2):\n",
    "\n",
    "  my_model=set_model(t,soc_list[j],rashba,delta)\n",
    "  evals=my_model.solve_all(k_vec)\n",
    "  \n",
    "  ax[j].set_xlim([0,k_node[-1]])\n",
    "  ax[j].set_xticks(k_node)\n",
    "  ax[j].set_xticklabels(label)\n",
    "  for n in range(len(k_node)):\n",
    "    ax[j].axvline(x=k_node[n],linewidth=0.5, color='k')\n",
    "  ax[j].set_ylabel(\"Energy\")\n",
    "  ax[j].set_ylim(-3.8,3.8)\n",
    "  for n in range(4):\n",
    "    ax[j].plot(k_dist,evals[n],color='k')\n",
    "\n",
    "  for m in [1,3]:\n",
    "    kk=k_node[m]\n",
    "    en=my_model.solve_one(path[m])\n",
    "    en=en[1:3]  # pick out second and third bands\n",
    "    if j==1:    # exchange them in second plot\n",
    "      en=[en[1],en[0]]\n",
    "    ax[j].scatter(kk,en[0],s=40.,marker='o',color='k',zorder=6)\n",
    "    ax[j].scatter(kk,en[1],s=40.,marker='o',edgecolors='k',facecolors='w',zorder=4)\n",
    "\n",
    "  ax[j].text(-0.45,3.5,labs[j],size=18.)\n",
    "\n",
    "# save figure as a PDF\n",
    "fig.tight_layout()\n",
    "plt.subplots_adjust(wspace=0.35)\n",
    "#fig.savefig(\"kanemele_bsr.pdf\")\n",
    "\n",
    "plt.show()"
   ]
  },
  {
   "cell_type": "code",
   "execution_count": null,
   "id": "potential-bulgarian",
   "metadata": {},
   "outputs": [],
   "source": []
  }
 ],
 "metadata": {
  "kernelspec": {
   "display_name": "Python 3",
   "language": "python",
   "name": "python3"
  },
  "language_info": {
   "codemirror_mode": {
    "name": "ipython",
    "version": 3
   },
   "file_extension": ".py",
   "mimetype": "text/x-python",
   "name": "python",
   "nbconvert_exporter": "python",
   "pygments_lexer": "ipython3",
   "version": "3.7.7"
  }
 },
 "nbformat": 4,
 "nbformat_minor": 5
}
