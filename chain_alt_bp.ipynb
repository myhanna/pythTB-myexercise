{
 "cells": [
  {
   "cell_type": "markdown",
   "id": "signed-mention",
   "metadata": {},
   "source": [
    "# Berry phase of alternating site chain"
   ]
  },
  {
   "cell_type": "code",
   "execution_count": 1,
   "id": "simple-observer",
   "metadata": {},
   "outputs": [],
   "source": [
    "# --------------------------------------------------\n",
    "# Chain with alternating site energies and hoppings\n",
    "# --------------------------------------------------\n",
    "\n",
    "from __future__ import print_function # python3 style print\n",
    "from pythtb import *"
   ]
  },
  {
   "cell_type": "code",
   "execution_count": 2,
   "id": "closed-solomon",
   "metadata": {},
   "outputs": [],
   "source": [
    "# define function to set up model for a given parameter set\n",
    "def set_model(t,del_t,Delta):\n",
    "  lat=[[1.0]]\n",
    "  orb=[[0.0],[0.5]]\n",
    "  my_model=tbmodel(1,1,lat,orb)\n",
    "  my_model.set_onsite([Delta,-Delta])\n",
    "  my_model.add_hop(t+del_t, 0, 1, [0])\n",
    "  my_model.add_hop(t-del_t, 1, 0, [1])\n",
    "  return my_model"
   ]
  },
  {
   "cell_type": "code",
   "execution_count": 3,
   "id": "italian-strike",
   "metadata": {},
   "outputs": [
    {
     "name": "stdout",
     "output_type": "stream",
     "text": [
      "---------------------------------------\n",
      "report of tight-binding model\n",
      "---------------------------------------\n",
      "k-space dimension           = 1\n",
      "r-space dimension           = 1\n",
      "number of spin components   = 1\n",
      "periodic directions         = [0]\n",
      "number of orbitals          = 2\n",
      "number of electronic states = 2\n",
      "lattice vectors:\n",
      " #  0  ===>  [     1.0 ]\n",
      "positions of orbitals:\n",
      " #  0  ===>  [     0.0 ]\n",
      " #  1  ===>  [     0.5 ]\n",
      "site energies:\n",
      " #  0  ===>       0.4\n",
      " #  1  ===>      -0.4\n",
      "hoppings:\n",
      "<  0 | H |  1 + [  0 ] >     ===>     -1.3 +     0.0 i\n",
      "<  1 | H |  0 + [  1 ] >     ===>     -0.7 +     0.0 i\n",
      "hopping distances:\n",
      "|  pos(  0 )  - pos(  1 + [  0 ] ) |  =       0.5\n",
      "|  pos(  1 )  - pos(  0 + [  1 ] ) |  =       0.5\n",
      "\n"
     ]
    }
   ],
   "source": [
    "# set parameters of model\n",
    "t=-1.0       # average hopping\n",
    "del_t=-0.3   # bond strength alternation\n",
    "Delta= 0.4   # site energy alternation\n",
    "my_model=set_model(t,del_t,Delta)\n",
    "my_model.display()"
   ]
  },
  {
   "cell_type": "code",
   "execution_count": 4,
   "id": "grateful-report",
   "metadata": {},
   "outputs": [
    {
     "name": "stdout",
     "output_type": "stream",
     "text": [
      "Berry phase is   2.217\n"
     ]
    }
   ],
   "source": [
    "# -----------------------------------\n",
    "# explicit calculation of Berry phase\n",
    "# -----------------------------------\n",
    "\n",
    "# set up and solve the model on a discretized k mesh\n",
    "nk=61          # 60 equal intervals around the unit circle\n",
    "(k_vec,k_dist,k_node)=my_model.k_path('full',nk,report=False)\n",
    "(eval,evec)=my_model.solve_all(k_vec,eig_vectors=True)\n",
    "evec=evec[0]   # pick band=0 from evec[band,kpoint,orbital]\n",
    "               # now just evec[kpoint,orbital]\n",
    "\n",
    "# k-points 0 and 60 refer to the same point on the unit circle\n",
    "# so we will work only with evec[0],...,evec[59]\n",
    "\n",
    "# compute Berry phase of lowest band\n",
    "prod=1.+0.j\n",
    "for i in range(1,nk-1):            # <evec_0|evec_1>...<evec_58|evec_59>\n",
    "  prod*=np.vdot(evec[i-1],evec[i]) # a*=b means a=a*b\n",
    "\n",
    "# now compute the phase factors needed for last inner product\n",
    "orb=np.array([0.0,0.5])            # relative coordinates of orbitals\n",
    "phase=np.exp((-2.j)*np.pi*orb)     # construct phase factors\n",
    "evec_last=phase*evec[0]            # evec[60] constructed from evec[0]\n",
    "prod*=np.vdot(evec[-2],evec_last)  # include <evec_59|evec_last>\n",
    "\n",
    "print(\"Berry phase is %7.3f\"% (-np.angle(prod)))"
   ]
  },
  {
   "cell_type": "code",
   "execution_count": 5,
   "id": "controlled-continent",
   "metadata": {},
   "outputs": [
    {
     "name": "stdout",
     "output_type": "stream",
     "text": [
      "Berry phase is   2.217\n"
     ]
    }
   ],
   "source": [
    "# -----------------------------------\n",
    "# Berry phase via the wf_array method\n",
    "# -----------------------------------\n",
    "\n",
    "evec_array=wf_array(my_model,[61])       # set array dimension\n",
    "evec_array.solve_on_grid([0.])           # fill with eigensolutions\n",
    "berry_phase=evec_array.berry_phase([0])  # Berry phase of bottom band\n",
    "\n",
    "print(\"Berry phase is %7.3f\"% berry_phase)"
   ]
  },
  {
   "cell_type": "code",
   "execution_count": null,
   "id": "victorian-cookbook",
   "metadata": {},
   "outputs": [],
   "source": []
  }
 ],
 "metadata": {
  "kernelspec": {
   "display_name": "Python 3",
   "language": "python",
   "name": "python3"
  },
  "language_info": {
   "codemirror_mode": {
    "name": "ipython",
    "version": 3
   },
   "file_extension": ".py",
   "mimetype": "text/x-python",
   "name": "python",
   "nbconvert_exporter": "python",
   "pygments_lexer": "ipython3",
   "version": "3.7.7"
  }
 },
 "nbformat": 4,
 "nbformat_minor": 5
}
