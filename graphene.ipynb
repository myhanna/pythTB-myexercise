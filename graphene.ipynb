{
 "cells": [
  {
   "cell_type": "code",
   "execution_count": 1,
   "id": "substantial-campus",
   "metadata": {},
   "outputs": [],
   "source": [
    "# ---------------------------------------\n",
    "# Simple model of pi manifold of graphene\n",
    "# ---------------------------------------\n",
    "\n",
    "from __future__ import print_function # python3 style print\n",
    "from pythtb import * # import TB model class\n",
    "\n",
    "import matplotlib.pyplot as plt\n",
    "from matplotlib import rcParams, cm\n",
    "%matplotlib inline\n",
    "rcParams.update({\"text.usetex\": True, \"font.size\": 16})"
   ]
  },
  {
   "cell_type": "code",
   "execution_count": 2,
   "id": "eligible-popularity",
   "metadata": {},
   "outputs": [],
   "source": [
    "# define lattice vectors\n",
    "lat=[[1.0,0.0],[0.5,np.sqrt(3.0)/2.0]]\n",
    "\n",
    "# define coordinates of orbitals\n",
    "orb=[[1./3.,1./3.],[2./3.,2./3.]]"
   ]
  },
  {
   "cell_type": "code",
   "execution_count": 3,
   "id": "advised-swiss",
   "metadata": {},
   "outputs": [],
   "source": [
    "# make 2D tight-binding graphene model\n",
    "my_model=tb_model(2,2,lat,orb)"
   ]
  },
  {
   "cell_type": "code",
   "execution_count": 4,
   "id": "executive-plymouth",
   "metadata": {},
   "outputs": [],
   "source": [
    "# set model parameters\n",
    "delta=0.0\n",
    "t=-1.0\n",
    "my_model.set_onsite([-delta,delta])\n",
    "my_model.set_hop(t, 0, 1, [ 0, 0])\n",
    "my_model.set_hop(t, 1, 0, [ 1, 0])\n",
    "my_model.set_hop(t, 1, 0, [ 0, 1])"
   ]
  },
  {
   "cell_type": "code",
   "execution_count": 5,
   "id": "perfect-jackson",
   "metadata": {},
   "outputs": [
    {
     "name": "stdout",
     "output_type": "stream",
     "text": [
      "---------------------------------------\n",
      "report of tight-binding model\n",
      "---------------------------------------\n",
      "k-space dimension           = 2\n",
      "r-space dimension           = 2\n",
      "number of spin components   = 1\n",
      "periodic directions         = [0, 1]\n",
      "number of orbitals          = 2\n",
      "number of electronic states = 2\n",
      "lattice vectors:\n",
      " #  0  ===>  [     1.0 ,     0.0 ]\n",
      " #  1  ===>  [     0.5 ,   0.866 ]\n",
      "positions of orbitals:\n",
      " #  0  ===>  [  0.3333 ,  0.3333 ]\n",
      " #  1  ===>  [  0.6667 ,  0.6667 ]\n",
      "site energies:\n",
      " #  0  ===>      -0.0\n",
      " #  1  ===>       0.0\n",
      "hoppings:\n",
      "<  0 | H |  1 + [  0 ,  0 ] >     ===>     -1.0 +     0.0 i\n",
      "<  1 | H |  0 + [  1 ,  0 ] >     ===>     -1.0 +     0.0 i\n",
      "<  1 | H |  0 + [  0 ,  1 ] >     ===>     -1.0 +     0.0 i\n",
      "hopping distances:\n",
      "|  pos(  0 )  - pos(  1 + [  0 ,  0 ] ) |  =    0.5774\n",
      "|  pos(  1 )  - pos(  0 + [  1 ,  0 ] ) |  =    0.5774\n",
      "|  pos(  1 )  - pos(  0 + [  0 ,  1 ] ) |  =    0.5774\n",
      "\n"
     ]
    }
   ],
   "source": [
    "# print out model details\n",
    "my_model.display()"
   ]
  },
  {
   "cell_type": "code",
   "execution_count": 6,
   "id": "developmental-public",
   "metadata": {},
   "outputs": [],
   "source": [
    "# list of k-point nodes and their labels defining the path for the\n",
    "#   band structure plot\n",
    "path=[[0.,0.],[2./3.,1./3.],[.5,.5],[0.,0.]]\n",
    "label=(r'$\\Gamma $',r'$K$', r'$M$', r'$\\Gamma $')"
   ]
  },
  {
   "cell_type": "code",
   "execution_count": 7,
   "id": "preliminary-magnet",
   "metadata": {},
   "outputs": [
    {
     "name": "stdout",
     "output_type": "stream",
     "text": [
      "----- k_path report begin ----------\n",
      "real-space lattice vectors\n",
      " [[1.      0.     ]\n",
      " [0.5     0.86603]]\n",
      "k-space metric tensor\n",
      " [[ 1.33333 -0.66667]\n",
      " [-0.66667  1.33333]]\n",
      "internal coordinates of nodes\n",
      " [[0.      0.     ]\n",
      " [0.66667 0.33333]\n",
      " [0.5     0.5    ]\n",
      " [0.      0.     ]]\n",
      "reciprocal-space lattice vectors\n",
      " [[ 1.      -0.57735]\n",
      " [ 0.       1.1547 ]]\n",
      "cartesian coordinates of nodes\n",
      " [[0.      0.     ]\n",
      " [0.66667 0.     ]\n",
      " [0.5     0.28868]\n",
      " [0.      0.     ]]\n",
      "list of segments:\n",
      "  length = 0.66667  from  [0. 0.]  to  [0.66667 0.33333]\n",
      "  length = 0.33333  from  [0.66667 0.33333]  to  [0.5 0.5]\n",
      "  length = 0.57735  from  [0.5 0.5]  to  [0. 0.]\n",
      "node distance list: [0.      0.66667 1.      1.57735]\n",
      "node index list:    [  0  51  76 120]\n",
      "----- k_path report end ------------\n",
      "\n"
     ]
    }
   ],
   "source": [
    "# construct the k-path\n",
    "nk=121\n",
    "(k_vec,k_dist,k_node)=my_model.k_path(path,nk)"
   ]
  },
  {
   "cell_type": "code",
   "execution_count": 8,
   "id": "conscious-cycle",
   "metadata": {},
   "outputs": [],
   "source": [
    "# solve for eigenvalues at each point on the path\n",
    "evals=my_model.solve_all(k_vec)"
   ]
  },
  {
   "cell_type": "code",
   "execution_count": 9,
   "id": "prerequisite-delivery",
   "metadata": {},
   "outputs": [
    {
     "data": {
      "image/png": "[encoded data removed]",
      "text/plain": [
       "<Figure size 288x216 with 1 Axes>"
      ]
     },
     "metadata": {
      "needs_background": "light"
     },
     "output_type": "display_data"
    }
   ],
   "source": [
    "# generate band structure plot\n",
    "\n",
    "fig, ax = plt.subplots(figsize=(4.,3.))\n",
    "# specify horizontal axis details\n",
    "ax.set_xlim([0,k_node[-1]])\n",
    "ax.set_ylim([-3.4,3.4])\n",
    "ax.set_xticks(k_node)\n",
    "ax.set_xticklabels(label)\n",
    "# add vertical lines at node positions\n",
    "for n in range(len(k_node)):\n",
    "    ax.axvline(x=k_node[n],linewidth=0.5, color='k')\n",
    "# put titles\n",
    "ax.set_xlabel(\"Path in k-space\")\n",
    "ax.set_ylabel(\"Band energy\")\n",
    "\n",
    "# plot first and second bands\n",
    "ax.plot(k_dist,evals[0],color='k')\n",
    "ax.plot(k_dist,evals[1],color='k')\n",
    "\n",
    "# save figure as a PDF\n",
    "fig.tight_layout()\n",
    "#fig.savefig(\"graphene.pdf\")\n",
    "\n",
    "plt.show()"
   ]
  },
  {
   "cell_type": "code",
   "execution_count": null,
   "id": "declared-saskatchewan",
   "metadata": {},
   "outputs": [],
   "source": []
  }
 ],
 "metadata": {
  "kernelspec": {
   "display_name": "Python 3",
   "language": "python",
   "name": "python3"
  },
  "language_info": {
   "codemirror_mode": {
    "name": "ipython",
    "version": 3
   },
   "file_extension": ".py",
   "mimetype": "text/x-python",
   "name": "python",
   "nbconvert_exporter": "python",
   "pygments_lexer": "ipython3",
   "version": "3.7.7"
  }
 },
 "nbformat": 4,
 "nbformat_minor": 5
}
