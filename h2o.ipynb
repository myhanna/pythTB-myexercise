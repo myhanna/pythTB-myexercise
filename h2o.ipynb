{
 "cells": [
  {
   "cell_type": "markdown",
   "id": "violent-spain",
   "metadata": {},
   "source": [
    "# Water Molecules"
   ]
  },
  {
   "cell_type": "code",
   "execution_count": 1,
   "id": "after-synthesis",
   "metadata": {},
   "outputs": [],
   "source": [
    "# ----------------------------------------------------------\n",
    "# Tight-binding model for H2O molecule\n",
    "# ----------------------------------------------------------\n",
    "\n",
    "from __future__ import print_function # python3 style print\n",
    "\n",
    "# import the pythtb module\n",
    "from pythtb import *\n",
    "import numpy as np"
   ]
  },
  {
   "cell_type": "code",
   "execution_count": 2,
   "id": "fantastic-fluid",
   "metadata": {},
   "outputs": [],
   "source": [
    "# geometry: bond length and half bond-angle\n",
    "b=1.0; angle=54.0*np.pi/180"
   ]
  },
  {
   "cell_type": "code",
   "execution_count": 3,
   "id": "piano-tribe",
   "metadata": {},
   "outputs": [],
   "source": [
    "# site energies [O(s), O(p), H(s)]\n",
    "eos=-1.5; eop=-1.2; eh=-1.0"
   ]
  },
  {
   "cell_type": "code",
   "execution_count": 4,
   "id": "searching-incident",
   "metadata": {},
   "outputs": [],
   "source": [
    "# hoppings [O(s)-H(s), O(p)-H(s)]\n",
    "ts=-0.4; tp=-0.3"
   ]
  },
  {
   "cell_type": "code",
   "execution_count": 5,
   "id": "prospective-mason",
   "metadata": {},
   "outputs": [],
   "source": [
    "# define frame for defining vectors: 3D Cartesian\n",
    "lat=[[1.0,0.0,0.0],[0.0,1.0,0.0],[0.0,0.0,1.0]]\n",
    "\n",
    "# define coordinates of orbitals: O(s,px,py,pz) ; H(s) ; H(s)\n",
    "orb=[ [0.,0.,0.], [0.,0.,0.], [0.,0.,0.], [0.,0.,0.],\n",
    "      [b*np.cos(angle), b*np.sin(angle),0.],\n",
    "      [b*np.cos(angle),-b*np.sin(angle),0.] ]"
   ]
  },
  {
   "cell_type": "code",
   "execution_count": 6,
   "id": "cardiovascular-mongolia",
   "metadata": {},
   "outputs": [],
   "source": [
    "# define model\n",
    "my_model=tbmodel(0,3,lat,orb)\n",
    "my_model.set_onsite([eos,eop,eop,eop,eh,eh])\n",
    "my_model.set_hop(ts,0,4)\n",
    "my_model.set_hop(ts,0,5)\n",
    "my_model.set_hop(tp*np.cos(angle),1,4)\n",
    "my_model.set_hop(tp*np.cos(angle),1,5)\n",
    "my_model.set_hop(tp*np.sin(angle),2,4)\n",
    "my_model.set_hop(-tp*np.sin(angle),2,5)"
   ]
  },
  {
   "cell_type": "code",
   "execution_count": 7,
   "id": "impressive-scheme",
   "metadata": {},
   "outputs": [
    {
     "name": "stdout",
     "output_type": "stream",
     "text": [
      "---------------------------------------\n",
      "report of tight-binding model\n",
      "---------------------------------------\n",
      "k-space dimension           = 0\n",
      "r-space dimension           = 3\n",
      "number of spin components   = 1\n",
      "periodic directions         = []\n",
      "number of orbitals          = 6\n",
      "number of electronic states = 6\n",
      "lattice vectors:\n",
      " #  0  ===>  [     1.0 ,     0.0 ,     0.0 ]\n",
      " #  1  ===>  [     0.0 ,     1.0 ,     0.0 ]\n",
      " #  2  ===>  [     0.0 ,     0.0 ,     1.0 ]\n",
      "positions of orbitals:\n",
      " #  0  ===>  [     0.0 ,     0.0 ,     0.0 ]\n",
      " #  1  ===>  [     0.0 ,     0.0 ,     0.0 ]\n",
      " #  2  ===>  [     0.0 ,     0.0 ,     0.0 ]\n",
      " #  3  ===>  [     0.0 ,     0.0 ,     0.0 ]\n",
      " #  4  ===>  [  0.5878 ,   0.809 ,     0.0 ]\n",
      " #  5  ===>  [  0.5878 ,  -0.809 ,     0.0 ]\n",
      "site energies:\n",
      " #  0  ===>      -1.5\n",
      " #  1  ===>      -1.2\n",
      " #  2  ===>      -1.2\n",
      " #  3  ===>      -1.2\n",
      " #  4  ===>      -1.0\n",
      " #  5  ===>      -1.0\n",
      "hoppings:\n",
      "<  0 | H |  4 >     ===>     -0.4 +     0.0 i\n",
      "<  0 | H |  5 >     ===>     -0.4 +     0.0 i\n",
      "<  1 | H |  4 >     ===>  -0.1763 +     0.0 i\n",
      "<  1 | H |  5 >     ===>  -0.1763 +     0.0 i\n",
      "<  2 | H |  4 >     ===>  -0.2427 +     0.0 i\n",
      "<  2 | H |  5 >     ===>   0.2427 +     0.0 i\n",
      "hopping distances:\n",
      "|  pos(  0 )  - pos(  4 ) |  =       1.0\n",
      "|  pos(  0 )  - pos(  5 ) |  =       1.0\n",
      "|  pos(  1 )  - pos(  4 ) |  =       1.0\n",
      "|  pos(  1 )  - pos(  5 ) |  =       1.0\n",
      "|  pos(  2 )  - pos(  4 ) |  =       1.0\n",
      "|  pos(  2 )  - pos(  5 ) |  =       1.0\n",
      "\n"
     ]
    }
   ],
   "source": [
    "# print model\n",
    "my_model.display()"
   ]
  },
  {
   "cell_type": "code",
   "execution_count": 8,
   "id": "neural-ceremony",
   "metadata": {},
   "outputs": [],
   "source": [
    "# solve model\n",
    "(eval,evec)=my_model.solve_all(eig_vectors=True)"
   ]
  },
  {
   "cell_type": "code",
   "execution_count": 9,
   "id": "greater-latex",
   "metadata": {},
   "outputs": [],
   "source": [
    "# the model is real, so OK to discard imaginary parts of eigenvectors\n",
    "evec=evec.real"
   ]
  },
  {
   "cell_type": "code",
   "execution_count": 10,
   "id": "spare-petite",
   "metadata": {},
   "outputs": [],
   "source": [
    "# optional: choose overall sign of evec according to some specified rule\n",
    "# (here, we make the average oxygen p component positive)\n",
    "for i in range(len(eval)):\n",
    "    if sum(evec[i,1:4]) < 0:\n",
    "        evec[i,:]=-evec[i,:]"
   ]
  },
  {
   "cell_type": "code",
   "execution_count": 11,
   "id": "adaptive-guidance",
   "metadata": {},
   "outputs": [
    {
     "name": "stdout",
     "output_type": "stream",
     "text": [
      "  n   eigval   eigvec\n",
      "  0   -1.896   [ 0.802  0.201 -0.000  0.000  0.398  0.398]\n",
      "  1   -1.458   [ 0.000 -0.000  0.800 -0.000  0.424 -0.424]\n",
      "  2   -1.242   [-0.342  0.927  0.000 -0.000  0.110  0.110]\n",
      "  3   -1.200   [-0.000  0.000  0.000  1.000  0.000 -0.000]\n",
      "  4   -0.742   [-0.000 -0.000  0.600  0.000 -0.566  0.566]\n",
      "  5   -0.562   [ 0.490  0.317  0.000  0.000 -0.574 -0.574]\n"
     ]
    }
   ],
   "source": [
    "# print results, setting numpy to format floats as xx.xxx\n",
    "np.set_printoptions(formatter={'float': '{: 6.3f}'.format})\n",
    "\n",
    "# print eigenvalues and real parts of eigenvectors, one to a line\n",
    "print(\"  n   eigval   eigvec\")\n",
    "for n in range(6):\n",
    "    print(\" %2i  %7.3f  \" % (n,eval[n]), evec[n,:])"
   ]
  },
  {
   "cell_type": "code",
   "execution_count": null,
   "id": "hybrid-destruction",
   "metadata": {},
   "outputs": [],
   "source": []
  }
 ],
 "metadata": {
  "kernelspec": {
   "display_name": "Python 3",
   "language": "python",
   "name": "python3"
  },
  "language_info": {
   "codemirror_mode": {
    "name": "ipython",
    "version": 3
   },
   "file_extension": ".py",
   "mimetype": "text/x-python",
   "name": "python",
   "nbconvert_exporter": "python",
   "pygments_lexer": "ipython3",
   "version": "3.7.7"
  }
 },
 "nbformat": 4,
 "nbformat_minor": 5
}
