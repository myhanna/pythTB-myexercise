{
 "cells": [
  {
   "cell_type": "markdown",
   "id": "municipal-running",
   "metadata": {},
   "source": [
    "# Adiabatic cycle for infinite three-site chain"
   ]
  },
  {
   "cell_type": "code",
   "execution_count": 1,
   "id": "theoretical-difference",
   "metadata": {},
   "outputs": [],
   "source": [
    "# ---------------------------------------------------\n",
    "# Chain with three sites per cell - cyclic variation\n",
    "# --------------------------------------------------\n",
    "\n",
    "from __future__ import print_function # python3 style print\n",
    "from pythtb import *\n",
    "\n",
    "import matplotlib.pyplot as plt\n",
    "from matplotlib import rcParams, cm\n",
    "%matplotlib inline\n",
    "rcParams.update({\"text.usetex\": True, \"font.size\": 16})"
   ]
  },
  {
   "cell_type": "code",
   "execution_count": 2,
   "id": "underlying-violation",
   "metadata": {},
   "outputs": [],
   "source": [
    "# define function to construct model\n",
    "def set_model(t,delta,lmbd):\n",
    "    lat=[[1.0]]\n",
    "    orb=[[0.0],[1.0/3.0],[2.0/3.0]]\n",
    "    model=tb_model(1,1,lat,orb)\n",
    "    model.set_hop(t, 0, 1, [0])\n",
    "    model.set_hop(t, 1, 2, [0])\n",
    "    model.set_hop(t, 2, 0, [1])\n",
    "    onsite_0=delta*(-1.0)*np.cos(lmbd)\n",
    "    onsite_1=delta*(-1.0)*np.cos(lmbd-2.0*np.pi/3.0)\n",
    "    onsite_2=delta*(-1.0)*np.cos(lmbd-4.0*np.pi/3.0)\n",
    "    model.set_onsite([onsite_0,onsite_1,onsite_2])\n",
    "    return(model)\n",
    "\n",
    "def get_xbar(band,model):\n",
    "    evec_array=wf_array(model,[21])        # set array dimension\n",
    "    evec_array.solve_on_grid([0.])         # fill with eigensolutions\n",
    "    wfc=evec_array.berry_phase([band])/(2.*np.pi)  # Wannier centers\n",
    "    return(wfc)"
   ]
  },
  {
   "cell_type": "code",
   "execution_count": 3,
   "id": "scheduled-hands",
   "metadata": {},
   "outputs": [],
   "source": [
    "\n",
    "# set fixed parameters\n",
    "t=-1.3\n",
    "delta=2.0\n",
    "\n",
    "# obtain results for an array of lambda values\n",
    "lmbd=np.linspace(0.,2.*np.pi,61)\n",
    "xbar=np.zeros_like(lmbd)\n",
    "for j,lam in enumerate(lmbd):\n",
    "    my_model=set_model(t,delta,lam)\n",
    "    xbar[j]=get_xbar(0,my_model)    # Wannier center of bottom band\n",
    "\n",
    "# enforce smooth evolution of xbar\n",
    "for j in range(1,61):\n",
    "    delt=xbar[j]-xbar[j-1]\n",
    "    delt=-0.5+(delt+0.5)%1.  # add integer to enforce |delt| < 0.5\n",
    "    xbar[j]=xbar[j-1]+delt\n"
   ]
  },
  {
   "cell_type": "code",
   "execution_count": 4,
   "id": "abandoned-calculation",
   "metadata": {},
   "outputs": [
    {
     "data": {
      "image/png": "[encoded data removed]",
      "text/plain": [
       "<Figure size 360x216 with 1 Axes>"
      ]
     },
     "metadata": {
      "needs_background": "light"
     },
     "output_type": "display_data"
    }
   ],
   "source": [
    "# set up the figure\n",
    "fig, ax = plt.subplots(figsize=(5.,3.))\n",
    "ax.set_xlim([0.,2.*np.pi])\n",
    "ax.set_ylim([-0.6,1.1])\n",
    "ax.set_xlabel(r\"Parameter $\\lambda$\")\n",
    "ax.set_ylabel(r\"Wannier center position\")\n",
    "xlab=[r\"0\",r\"$\\pi/3$\",r\"$2\\pi/3$\",r\"$\\pi$\",r\"$4\\pi/3$\",r\"$5\\pi/3$\",r\"$2\\pi$\"]\n",
    "ax.set_xticks(np.linspace(0.,2.*np.pi,num=7))\n",
    "ax.set_xticklabels(xlab)\n",
    "ax.plot(lmbd,xbar,'k')    # plot Wannier center and some periodic images\n",
    "ax.plot(lmbd,xbar-1.,'k')\n",
    "ax.plot(lmbd,xbar+1.,'k')\n",
    "ax.axhline(y=1.,color='k',linestyle='dashed') # horizontal reference lines\n",
    "ax.axhline(y=0.,color='k',linestyle='dashed')\n",
    "fig.tight_layout()\n",
    "#fig.savefig(\"chain_3_cycle.pdf\")\n",
    "\n",
    "plt.show()"
   ]
  },
  {
   "cell_type": "code",
   "execution_count": null,
   "id": "aging-vietnamese",
   "metadata": {},
   "outputs": [],
   "source": []
  }
 ],
 "metadata": {
  "kernelspec": {
   "display_name": "Python 3",
   "language": "python",
   "name": "python3"
  },
  "language_info": {
   "codemirror_mode": {
    "name": "ipython",
    "version": 3
   },
   "file_extension": ".py",
   "mimetype": "text/x-python",
   "name": "python",
   "nbconvert_exporter": "python",
   "pygments_lexer": "ipython3",
   "version": "3.7.7"
  }
 },
 "nbformat": 4,
 "nbformat_minor": 5
}
