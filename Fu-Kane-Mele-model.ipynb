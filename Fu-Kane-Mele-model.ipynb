{
 "cells": [
  {
   "cell_type": "code",
   "execution_count": 1,
   "id": "noble-burke",
   "metadata": {},
   "outputs": [],
   "source": [
    "# ------------------------------------------\n",
    "# Three-dimensional Fu-Kane-Mele model\n",
    "# Fu, Kane and Mele, PRL 98, 106803 (2007)\n",
    "# ------------------------------------------\n",
    "\n",
    "from __future__ import print_function # python3 style print\n",
    "from pythtb import * # import TB model class\n",
    "\n",
    "import matplotlib.pyplot as plt\n",
    "from matplotlib import rcParams, cm\n",
    "%matplotlib inline\n",
    "rcParams.update({\"text.usetex\": True, \"font.size\": 16})"
   ]
  },
  {
   "cell_type": "code",
   "execution_count": 2,
   "id": "finnish-indiana",
   "metadata": {},
   "outputs": [],
   "source": [
    "# set model parameters\n",
    "t=1.0      # spin-independent first-neighbor hop\n",
    "dt=0.4     # modification to t for (111) bond\n",
    "soc=0.125  # spin-dependent second-neighbor hop"
   ]
  },
  {
   "cell_type": "code",
   "execution_count": 3,
   "id": "virgin-journal",
   "metadata": {},
   "outputs": [],
   "source": [
    "def set_model(t,dt,soc):\n",
    "\n",
    "  # set up Fu-Kane-Mele model\n",
    "  lat=[[.0,.5,.5],[.5,.0,.5],[.5,.5,.0]]\n",
    "  orb=[[0.,0.,0.],[.25,.25,.25]]\n",
    "  model=tb_model(3,3,lat,orb,nspin=2)\n",
    "\n",
    "  # spin-independent first-neighbor hops\n",
    "  for lvec in ([0,0,0],[-1,0,0],[0,-1,0],[0,0,-1]):\n",
    "    model.set_hop(t,0,1,lvec)\n",
    "  model.set_hop(dt,0,1,[0,0,0],mode=\"add\")\n",
    "\n",
    "  # spin-dependent second-neighbor hops\n",
    "  lvec_list=([1,0,0],[0,1,0],[0,0,1],[-1,1,0],[0,-1,1],[1,0,-1])\n",
    "  dir_list=([0,1,-1],[-1,0,1],[1,-1,0],[1,1,0],[0,1,1],[1,0,1])\n",
    "  for j in range(6):\n",
    "    spin=np.array([0.]+dir_list[j])\n",
    "    model.set_hop( 1.j*soc*spin,0,0,lvec_list[j])\n",
    "    model.set_hop(-1.j*soc*spin,1,1,lvec_list[j])\n",
    "\n",
    "  return model"
   ]
  },
  {
   "cell_type": "code",
   "execution_count": 4,
   "id": "hired-focus",
   "metadata": {},
   "outputs": [
    {
     "name": "stdout",
     "output_type": "stream",
     "text": [
      "---------------------------------------\n",
      "report of tight-binding model\n",
      "---------------------------------------\n",
      "k-space dimension           = 3\n",
      "r-space dimension           = 3\n",
      "number of spin components   = 2\n",
      "periodic directions         = [0, 1, 2]\n",
      "number of orbitals          = 2\n",
      "number of electronic states = 4\n",
      "lattice vectors:\n",
      " #  0  ===>  [     0.0 ,     0.5 ,     0.5 ]\n",
      " #  1  ===>  [     0.5 ,     0.0 ,     0.5 ]\n",
      " #  2  ===>  [     0.5 ,     0.5 ,     0.0 ]\n",
      "positions of orbitals:\n",
      " #  0  ===>  [     0.0 ,     0.0 ,     0.0 ]\n",
      " #  1  ===>  [    0.25 ,    0.25 ,    0.25 ]\n",
      "site energies:\n",
      " #  0  ===>   [[0.+0.j 0.+0.j]  [0.+0.j 0.+0.j]]\n",
      " #  1  ===>   [[0.+0.j 0.+0.j]  [0.+0.j 0.+0.j]]\n",
      "hoppings:\n",
      "<  0 | H |  1 + [  0 ,  0 ,  0 ] >     ===>  [[1.4+0.j 0. +0.j]  [0. +0.j 1.4+0.j]]\n",
      "<  0 | H |  1 + [ -1 ,  0 ,  0 ] >     ===>  [[1.+0.j 0.+0.j]  [0.+0.j 1.+0.j]]\n",
      "<  0 | H |  1 + [  0 , -1 ,  0 ] >     ===>  [[1.+0.j 0.+0.j]  [0.+0.j 1.+0.j]]\n",
      "<  0 | H |  1 + [  0 ,  0 , -1 ] >     ===>  [[1.+0.j 0.+0.j]  [0.+0.j 1.+0.j]]\n",
      "<  0 | H |  0 + [  1 ,  0 ,  0 ] >     ===>  [[ 0.   -0.125j  0.125+0.j   ]  [-0.125+0.j     0.   +0.125j]]\n",
      "<  1 | H |  1 + [  1 ,  0 ,  0 ] >     ===>  [[ 0.   +0.125j -0.125+0.j   ]  [ 0.125+0.j     0.   -0.125j]]\n",
      "<  0 | H |  0 + [  0 ,  1 ,  0 ] >     ===>  [[0.+0.125j 0.-0.125j]  [0.-0.125j 0.-0.125j]]\n",
      "<  1 | H |  1 + [  0 ,  1 ,  0 ] >     ===>  [[0.-0.125j 0.+0.125j]  [0.+0.125j 0.+0.125j]]\n",
      "<  0 | H |  0 + [  0 ,  0 ,  1 ] >     ===>  [[ 0.   +0.j    -0.125+0.125j]  [ 0.125+0.125j  0.   +0.j   ]]\n",
      "<  1 | H |  1 + [  0 ,  0 ,  1 ] >     ===>  [[ 0.   +0.j     0.125-0.125j]  [-0.125-0.125j  0.   +0.j   ]]\n",
      "<  0 | H |  0 + [ -1 ,  1 ,  0 ] >     ===>  [[ 0.   +0.j     0.125+0.125j]  [-0.125+0.125j  0.   +0.j   ]]\n",
      "<  1 | H |  1 + [ -1 ,  1 ,  0 ] >     ===>  [[ 0.   +0.j    -0.125-0.125j]  [ 0.125-0.125j  0.   +0.j   ]]\n",
      "<  0 | H |  0 + [  0 , -1 ,  1 ] >     ===>  [[ 0.   +0.125j  0.125+0.j   ]  [-0.125+0.j     0.   -0.125j]]\n",
      "<  1 | H |  1 + [  0 , -1 ,  1 ] >     ===>  [[ 0.   -0.125j -0.125+0.j   ]  [ 0.125+0.j     0.   +0.125j]]\n",
      "<  0 | H |  0 + [  1 ,  0 , -1 ] >     ===>  [[0.+0.125j 0.+0.125j]  [0.+0.125j 0.-0.125j]]\n",
      "<  1 | H |  1 + [  1 ,  0 , -1 ] >     ===>  [[0.-0.125j 0.-0.125j]  [0.-0.125j 0.+0.125j]]\n",
      "hopping distances:\n",
      "|  pos(  0 )  - pos(  1 + [  0 ,  0 ,  0 ] ) |  =     0.433\n",
      "|  pos(  0 )  - pos(  1 + [ -1 ,  0 ,  0 ] ) |  =     0.433\n",
      "|  pos(  0 )  - pos(  1 + [  0 , -1 ,  0 ] ) |  =     0.433\n",
      "|  pos(  0 )  - pos(  1 + [  0 ,  0 , -1 ] ) |  =     0.433\n",
      "|  pos(  0 )  - pos(  0 + [  1 ,  0 ,  0 ] ) |  =    0.7071\n",
      "|  pos(  1 )  - pos(  1 + [  1 ,  0 ,  0 ] ) |  =    0.7071\n",
      "|  pos(  0 )  - pos(  0 + [  0 ,  1 ,  0 ] ) |  =    0.7071\n",
      "|  pos(  1 )  - pos(  1 + [  0 ,  1 ,  0 ] ) |  =    0.7071\n",
      "|  pos(  0 )  - pos(  0 + [  0 ,  0 ,  1 ] ) |  =    0.7071\n",
      "|  pos(  1 )  - pos(  1 + [  0 ,  0 ,  1 ] ) |  =    0.7071\n",
      "|  pos(  0 )  - pos(  0 + [ -1 ,  1 ,  0 ] ) |  =    0.7071\n",
      "|  pos(  1 )  - pos(  1 + [ -1 ,  1 ,  0 ] ) |  =    0.7071\n",
      "|  pos(  0 )  - pos(  0 + [  0 , -1 ,  1 ] ) |  =    0.7071\n",
      "|  pos(  1 )  - pos(  1 + [  0 , -1 ,  1 ] ) |  =    0.7071\n",
      "|  pos(  0 )  - pos(  0 + [  1 ,  0 , -1 ] ) |  =    0.7071\n",
      "|  pos(  1 )  - pos(  1 + [  1 ,  0 , -1 ] ) |  =    0.7071\n",
      "\n"
     ]
    }
   ],
   "source": [
    "my_model=set_model(t,dt,soc)\n",
    "my_model.display()"
   ]
  },
  {
   "cell_type": "code",
   "execution_count": 5,
   "id": "outdoor-brother",
   "metadata": {},
   "outputs": [
    {
     "name": "stdout",
     "output_type": "stream",
     "text": [
      "----- k_path report begin ----------\n",
      "real-space lattice vectors\n",
      " [[0.  0.5 0.5]\n",
      " [0.5 0.  0.5]\n",
      " [0.5 0.5 0. ]]\n",
      "k-space metric tensor\n",
      " [[ 3. -1. -1.]\n",
      " [-1.  3. -1.]\n",
      " [-1. -1.  3.]]\n",
      "internal coordinates of nodes\n",
      " [[0.    0.    0.   ]\n",
      " [0.    0.5   0.5  ]\n",
      " [0.25  0.625 0.625]\n",
      " [0.5   0.5   0.5  ]\n",
      " [0.75  0.375 0.375]\n",
      " [0.5   0.    0.   ]]\n",
      "reciprocal-space lattice vectors\n",
      " [[-1.  1.  1.]\n",
      " [ 1. -1.  1.]\n",
      " [ 1.  1. -1.]]\n",
      "cartesian coordinates of nodes\n",
      " [[ 0.    0.    0.  ]\n",
      " [ 1.    0.    0.  ]\n",
      " [ 1.    0.25  0.25]\n",
      " [ 0.5   0.5   0.5 ]\n",
      " [ 0.    0.75  0.75]\n",
      " [-0.5   0.5   0.5 ]]\n",
      "list of segments:\n",
      "  length =     1.0  from  [0. 0. 0.]  to  [0.  0.5 0.5]\n",
      "  length = 0.35355  from  [0.  0.5 0.5]  to  [0.25  0.625 0.625]\n",
      "  length = 0.61237  from  [0.25  0.625 0.625]  to  [0.5 0.5 0.5]\n",
      "  length = 0.61237  from  [0.5 0.5 0.5]  to  [0.75  0.375 0.375]\n",
      "  length = 0.61237  from  [0.75  0.375 0.375]  to  [0.5 0.  0. ]\n",
      "node distance list: [0.      1.      1.35355 1.96593 2.5783  3.19067]\n",
      "node index list:    [  0  31  42  62  81 100]\n",
      "----- k_path report end ------------\n",
      "\n"
     ]
    }
   ],
   "source": [
    "# construct path in k-space and solve model\n",
    "path=[[0.,0.,0.],[0.,.5,.5],[0.25,.625,.625],\n",
    "         [.5,.5,.5],[.75,.375,.375],[.5,0.,0.]]\n",
    "label=(r'$\\Gamma$',r'$X$',r'$U$',r'$L$',r'$K$',r'$L^\\prime$')\n",
    "(k_vec,k_dist,k_node)=my_model.k_path(path,101)"
   ]
  },
  {
   "cell_type": "code",
   "execution_count": 6,
   "id": "neural-contrast",
   "metadata": {},
   "outputs": [],
   "source": [
    "evals=my_model.solve_all(k_vec)"
   ]
  },
  {
   "cell_type": "code",
   "execution_count": 7,
   "id": "opponent-spider",
   "metadata": {},
   "outputs": [
    {
     "data": {
      "image/png": "[encoded data removed]",
      "text/plain": [
       "<Figure size 432x288 with 1 Axes>"
      ]
     },
     "metadata": {
      "needs_background": "light"
     },
     "output_type": "display_data"
    }
   ],
   "source": [
    "# ------------------------------------\n",
    "# first plot: compute band structure\n",
    "# ------------------------------------\n",
    "\n",
    "# band structure plot\n",
    "fig, ax = plt.subplots(1,1,figsize=(6.,4.))\n",
    "ax.set_xlim([0,k_node[-1]])\n",
    "ax.set_xticks(k_node)\n",
    "ax.set_xticklabels(label)\n",
    "for n in range(len(k_node)):\n",
    "  ax.axvline(x=k_node[n],linewidth=0.5, color='k')\n",
    "ax.set_ylabel(\"Energy\")\n",
    "ax.set_ylim(-4.9,4.9)\n",
    "for n in range(4):\n",
    "  ax.plot(k_dist,evals[n],color='k')\n",
    "fig.tight_layout()\n",
    "#fig.savefig(\"fkm_bsr.pdf\")\n",
    "\n",
    "plt.show()"
   ]
  },
  {
   "cell_type": "code",
   "execution_count": 8,
   "id": "facial-agent",
   "metadata": {},
   "outputs": [
    {
     "data": {
      "image/png": "[encoded data removed]",
      "text/plain": [
       "<Figure size 432x288 with 2 Axes>"
      ]
     },
     "metadata": {
      "needs_background": "light"
     },
     "output_type": "display_data"
    }
   ],
   "source": [
    "# --------------------------------------\n",
    "# second plot: compute Wannier flow\n",
    "# -------------------------------------\n",
    "\n",
    "# initialize plot\n",
    "fig, ax = plt.subplots(1,2,figsize=(6,4),sharey=True)\n",
    "\n",
    "# Obtain eigenvectors on 2D grid on slices at fixed kappa_3\n",
    "# Note physical (kappa_1,kappa_2,kappa_3) have python indices (0,1,2)\n",
    "kappa2_values=[0.,0.5]\n",
    "labs=[r'$\\kappa_3$=0',r'$\\kappa_3$=$\\pi$']\n",
    "nk=41\n",
    "dk=1./float(nk-1)\n",
    "wf=wf_array(my_model,[nk,nk])\n",
    "\n",
    "#loop over slices\n",
    "for j in range(2):\n",
    "  for k0 in range(nk):\n",
    "    for k1 in range(nk):\n",
    "      kvec=[k0*dk,k1*dk,kappa2_values[j]]\n",
    "      (eval,evec)=my_model.solve_one(kvec,eig_vectors=True)\n",
    "      wf[k0,k1]=evec\n",
    "  wf.impose_pbc(mesh_dir=0,k_dir=0)\n",
    "  wf.impose_pbc(mesh_dir=1,k_dir=1)\n",
    "  hwfc=wf.berry_phase([0,1],dir=1,contin=True,berry_evals=True)/(2.*np.pi)\n",
    "  \n",
    "  ax[j].set_xlim([0.,1.])\n",
    "  ax[j].set_xticks([0.,0.5,1.])\n",
    "  ax[j].set_xlabel(r\"$\\kappa_1/2\\pi$\")\n",
    "  ax[j].set_ylim(-0.5,1.5)\n",
    "  for n in range(2):\n",
    "    for shift in [-1.,0.,1.]:\n",
    "      ax[j].plot(np.linspace(0.,1.,nk),hwfc[:,n]+shift,color='k')\n",
    "  ax[j].text(0.08,1.20,labs[j],size=12.,bbox=dict(facecolor='w',edgecolor='k'))\n",
    "\n",
    "ax[0].set_ylabel(r\"HWF center $\\bar{s}_2$\")\n",
    "fig.tight_layout()\n",
    "plt.subplots_adjust(left=0.15,wspace=0.2)\n",
    "#fig.savefig(\"fkm_topo.pdf\")\n",
    "\n",
    "plt.show()"
   ]
  },
  {
   "cell_type": "code",
   "execution_count": null,
   "id": "ready-leader",
   "metadata": {},
   "outputs": [],
   "source": []
  }
 ],
 "metadata": {
  "kernelspec": {
   "display_name": "Python 3",
   "language": "python",
   "name": "python3"
  },
  "language_info": {
   "codemirror_mode": {
    "name": "ipython",
    "version": 3
   },
   "file_extension": ".py",
   "mimetype": "text/x-python",
   "name": "python",
   "nbconvert_exporter": "python",
   "pygments_lexer": "ipython3",
   "version": "3.7.7"
  }
 },
 "nbformat": 4,
 "nbformat_minor": 5
}
