{
 "cells": [
  {
   "cell_type": "markdown",
   "id": "matched-publication",
   "metadata": {},
   "source": [
    "# Benzene Molecule"
   ]
  },
  {
   "cell_type": "code",
   "execution_count": 1,
   "id": "computational-beatles",
   "metadata": {},
   "outputs": [],
   "source": [
    "# ----------------------------------------------------------\n",
    "# Tight-binding model for p_z states of benzene molecule\n",
    "# ----------------------------------------------------------\n",
    "\n",
    "from __future__ import print_function # python3 style print\n",
    "\n",
    "from pythtb import *\n",
    "import numpy as np"
   ]
  },
  {
   "cell_type": "code",
   "execution_count": 2,
   "id": "alleged-sheriff",
   "metadata": {},
   "outputs": [],
   "source": [
    "# set up molecular geometry\n",
    "lat=[[1.0,0.0],[0.0,1.0]]        # define coordinate frame: 2D Cartesian\n",
    "r=1.2                            # distance of atoms from center\n",
    "\n",
    "orb=np.zeros((6,2),dtype=float)  # initialize array for orbital positions\n",
    "for i in range(6):               # define coordinates of orbitals\n",
    "    angle=i*np.pi/3.0\n",
    "    orb[i,:]= [r*np.cos(angle), r*np.sin(angle)]"
   ]
  },
  {
   "cell_type": "code",
   "execution_count": 3,
   "id": "crude-restriction",
   "metadata": {},
   "outputs": [],
   "source": [
    "# set site energy and hopping amplitude, respectively\n",
    "ep=-0.4\n",
    "t=-0.25"
   ]
  },
  {
   "cell_type": "code",
   "execution_count": 4,
   "id": "simplified-hometown",
   "metadata": {},
   "outputs": [],
   "source": [
    "# define model\n",
    "my_model=tbmodel(0,2,lat,orb)\n",
    "my_model.set_onsite([ep,ep,ep,ep,ep,ep])\n",
    "my_model.set_hop(t,0,1)\n",
    "my_model.set_hop(t,1,2)\n",
    "my_model.set_hop(t,2,3)\n",
    "my_model.set_hop(t,3,4)\n",
    "my_model.set_hop(t,4,5)\n",
    "my_model.set_hop(t,5,0)"
   ]
  },
  {
   "cell_type": "code",
   "execution_count": 5,
   "id": "static-employment",
   "metadata": {},
   "outputs": [
    {
     "name": "stdout",
     "output_type": "stream",
     "text": [
      "---------------------------------------\n",
      "report of tight-binding model\n",
      "---------------------------------------\n",
      "k-space dimension           = 0\n",
      "r-space dimension           = 2\n",
      "number of spin components   = 1\n",
      "periodic directions         = []\n",
      "number of orbitals          = 6\n",
      "number of electronic states = 6\n",
      "lattice vectors:\n",
      " #  0  ===>  [     1.0 ,     0.0 ]\n",
      " #  1  ===>  [     0.0 ,     1.0 ]\n",
      "positions of orbitals:\n",
      " #  0  ===>  [     1.2 ,     0.0 ]\n",
      " #  1  ===>  [     0.6 ,  1.0392 ]\n",
      " #  2  ===>  [    -0.6 ,  1.0392 ]\n",
      " #  3  ===>  [    -1.2 ,     0.0 ]\n",
      " #  4  ===>  [    -0.6 , -1.0392 ]\n",
      " #  5  ===>  [     0.6 , -1.0392 ]\n",
      "site energies:\n",
      " #  0  ===>      -0.4\n",
      " #  1  ===>      -0.4\n",
      " #  2  ===>      -0.4\n",
      " #  3  ===>      -0.4\n",
      " #  4  ===>      -0.4\n",
      " #  5  ===>      -0.4\n",
      "hoppings:\n",
      "<  0 | H |  1 >     ===>    -0.25 +     0.0 i\n",
      "<  1 | H |  2 >     ===>    -0.25 +     0.0 i\n",
      "<  2 | H |  3 >     ===>    -0.25 +     0.0 i\n",
      "<  3 | H |  4 >     ===>    -0.25 +     0.0 i\n",
      "<  4 | H |  5 >     ===>    -0.25 +     0.0 i\n",
      "<  5 | H |  0 >     ===>    -0.25 +     0.0 i\n",
      "hopping distances:\n",
      "|  pos(  0 )  - pos(  1 ) |  =       1.2\n",
      "|  pos(  1 )  - pos(  2 ) |  =       1.2\n",
      "|  pos(  2 )  - pos(  3 ) |  =       1.2\n",
      "|  pos(  3 )  - pos(  4 ) |  =       1.2\n",
      "|  pos(  4 )  - pos(  5 ) |  =       1.2\n",
      "|  pos(  5 )  - pos(  0 ) |  =       1.2\n",
      "\n"
     ]
    }
   ],
   "source": [
    "# print model\n",
    "my_model.display()"
   ]
  },
  {
   "cell_type": "code",
   "execution_count": 6,
   "id": "ultimate-wallet",
   "metadata": {},
   "outputs": [],
   "source": [
    "# solve model and print results\n",
    "(eval,evec)=my_model.solve_all(eig_vectors=True)"
   ]
  },
  {
   "cell_type": "code",
   "execution_count": 7,
   "id": "boxed-image",
   "metadata": {},
   "outputs": [
    {
     "name": "stdout",
     "output_type": "stream",
     "text": [
      "  n   eigval   eigvec\n",
      "  0   -0.900   [-0.408 -0.408 -0.408 -0.408 -0.408 -0.408]\n",
      "  1   -0.650   [-0.563 -0.172  0.391  0.563  0.172 -0.391]\n",
      "  2   -0.650   [-0.127 -0.551 -0.424  0.127  0.551  0.424]\n",
      "  3   -0.150   [-0.440 -0.104  0.544 -0.440 -0.104  0.544]\n",
      "  4   -0.150   [ 0.374 -0.568  0.194  0.374 -0.568  0.194]\n",
      "  5    0.100   [-0.408  0.408 -0.408  0.408 -0.408  0.408]\n"
     ]
    }
   ],
   "source": [
    "# print results, setting numpy to format floats as xx.xxx\n",
    "np.set_printoptions(formatter={'float': '{: 6.3f}'.format})\n",
    "# Print eigenvalues and real parts of eigenvectors, one to a line\n",
    "print(\"  n   eigval   eigvec\")\n",
    "for n in range(6):\n",
    "    print(\" %2i  %7.3f  \" % (n,eval[n]), evec[n,:].real)"
   ]
  },
  {
   "cell_type": "code",
   "execution_count": null,
   "id": "commercial-softball",
   "metadata": {},
   "outputs": [],
   "source": []
  }
 ],
 "metadata": {
  "kernelspec": {
   "display_name": "Python 3",
   "language": "python",
   "name": "python3"
  },
  "language_info": {
   "codemirror_mode": {
    "name": "ipython",
    "version": 3
   },
   "file_extension": ".py",
   "mimetype": "text/x-python",
   "name": "python",
   "nbconvert_exporter": "python",
   "pygments_lexer": "ipython3",
   "version": "3.7.7"
  }
 },
 "nbformat": 4,
 "nbformat_minor": 5
}
