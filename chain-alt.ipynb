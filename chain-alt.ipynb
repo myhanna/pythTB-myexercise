{
 "cells": [
  {
   "cell_type": "code",
   "execution_count": 1,
   "id": "metric-subsection",
   "metadata": {},
   "outputs": [],
   "source": [
    "# -------------------------------------------------\n",
    "# Chain with alternating site energies and hoppings\n",
    "# -------------------------------------------------\n",
    "\n",
    "from __future__ import print_function # python3 style print\n",
    "from pythtb import *\n",
    "\n",
    "import matplotlib.pyplot as plt\n",
    "from matplotlib import rcParams, cm\n",
    "%matplotlib inline\n",
    "rcParams.update({\"text.usetex\": True, \"font.size\": 16})"
   ]
  },
  {
   "cell_type": "code",
   "execution_count": 2,
   "id": "neutral-durham",
   "metadata": {},
   "outputs": [],
   "source": [
    "# define function to set up model for a given paramter set\n",
    "def set_model(t,del_t,Delta):\n",
    "    # 1D model with two orbitals per cell\n",
    "    lat=[[1.0]]\n",
    "    orb=[[0.0],[0.5]]\n",
    "    my_model=tbmodel(1,1,lat,orb)\n",
    "    # alternating site energies (let average be zero)\n",
    "    my_model.set_onsite([Delta,-Delta])\n",
    "    # alternating hopping strengths\n",
    "    my_model.add_hop(t+del_t, 0, 1, [0])\n",
    "    my_model.add_hop(t-del_t, 1, 0, [1])\n",
    "    return my_model"
   ]
  },
  {
   "cell_type": "code",
   "execution_count": 3,
   "id": "stone-attention",
   "metadata": {},
   "outputs": [],
   "source": [
    "# set reference hopping strength to unity to set energy scale\n",
    "t=-1.0\n",
    "\n",
    "# set alternation strengths\n",
    "del_t=-0.3   # bond strength alternation\n",
    "Delta= 0.4   # site energy alternation"
   ]
  },
  {
   "cell_type": "code",
   "execution_count": 4,
   "id": "straight-moldova",
   "metadata": {},
   "outputs": [],
   "source": [
    "# set up the model\n",
    "my_model=set_model(t,del_t,Delta)"
   ]
  },
  {
   "cell_type": "code",
   "execution_count": 5,
   "id": "saving-wages",
   "metadata": {},
   "outputs": [
    {
     "name": "stdout",
     "output_type": "stream",
     "text": [
      " Path in 1D BZ defined by nodes at [0.  0.5 1. ]\n",
      "\n"
     ]
    }
   ],
   "source": [
    "# construct the k-path\n",
    "(k_vec,k_dist,k_node)=my_model.k_path('full',121)\n",
    "k_lab=(r'0',r'$\\pi$',r'$2\\pi$')"
   ]
  },
  {
   "cell_type": "code",
   "execution_count": 6,
   "id": "previous-preserve",
   "metadata": {},
   "outputs": [],
   "source": [
    "# solve for eigenvalues at each point on the path\n",
    "evals=my_model.solve_all(k_vec)"
   ]
  },
  {
   "cell_type": "code",
   "execution_count": 7,
   "id": "brave-cricket",
   "metadata": {},
   "outputs": [
    {
     "data": {
      "image/png": "[encoded data removed]",
      "text/plain": [
       "<Figure size 288x216 with 1 Axes>"
      ]
     },
     "metadata": {
      "needs_background": "light"
     },
     "output_type": "display_data"
    }
   ],
   "source": [
    "# set up the figure and specify details\n",
    "fig, ax = plt.subplots(figsize=(4.,3.))\n",
    "ax.set_xlim([0,k_node[-1]])\n",
    "ax.set_xticks(k_node)\n",
    "ax.set_xticklabels(k_lab)\n",
    "ax.axvline(x=k_node[1],linewidth=0.5, color='k')\n",
    "ax.set_xlabel(\"k\")\n",
    "ax.set_ylabel(\"Band energy\")\n",
    "\n",
    "# plot first and second bands\n",
    "ax.plot(k_dist,evals[0],color='k')\n",
    "ax.plot(k_dist,evals[1],color='k')\n",
    "\n",
    "# save figure as a PDF\n",
    "fig.tight_layout()\n",
    "#fig.savefig(\"chain_alt.pdf\")\n",
    "\n",
    "plt.show()"
   ]
  },
  {
   "cell_type": "code",
   "execution_count": null,
   "id": "lined-identifier",
   "metadata": {},
   "outputs": [],
   "source": []
  }
 ],
 "metadata": {
  "kernelspec": {
   "display_name": "Python 3",
   "language": "python",
   "name": "python3"
  },
  "language_info": {
   "codemirror_mode": {
    "name": "ipython",
    "version": 3
   },
   "file_extension": ".py",
   "mimetype": "text/x-python",
   "name": "python",
   "nbconvert_exporter": "python",
   "pygments_lexer": "ipython3",
   "version": "3.7.7"
  }
 },
 "nbformat": 4,
 "nbformat_minor": 5
}
