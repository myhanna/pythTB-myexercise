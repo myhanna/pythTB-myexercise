{
 "cells": [
  {
   "cell_type": "markdown",
   "id": "independent-wesley",
   "metadata": {},
   "source": [
    "# Entanglement Spectrum of the Haldane Model"
   ]
  },
  {
   "cell_type": "code",
   "execution_count": 1,
   "id": "surrounded-belief",
   "metadata": {},
   "outputs": [],
   "source": [
    "# --------------------------------------\n",
    "# Entanglement spectrum of Haldane model\n",
    "# --------------------------------------\n",
    "\n",
    "from __future__ import print_function # python3 style print\n",
    "from pythtb import * # import TB model class\n",
    "\n",
    "import matplotlib.pyplot as plt\n",
    "from matplotlib import rcParams, cm\n",
    "%matplotlib inline\n",
    "rcParams.update({\"text.usetex\": True, \"font.size\": 16})"
   ]
  },
  {
   "cell_type": "code",
   "execution_count": 2,
   "id": "bizarre-soundtrack",
   "metadata": {},
   "outputs": [],
   "source": [
    "# define setup of Haldane model\n",
    "def set_model(delta,t,t2):\n",
    "  lat=[[1.0,0.0],[0.5,np.sqrt(3.0)/2.0]]\n",
    "  orb=[[1./3.,1./3.],[2./3.,2./3.]]\n",
    "  model=tb_model(2,2,lat,orb)\n",
    "  model.set_onsite([-delta,delta])\n",
    "  for lvec in ([ 0, 0], [-1, 0], [ 0,-1]):\n",
    "    model.set_hop(t, 0, 1, lvec)\n",
    "  for lvec in ([ 1, 0], [-1, 1], [ 0,-1]):\n",
    "    model.set_hop(t2*1.j, 0, 0, lvec)\n",
    "  for lvec in ([-1, 0], [ 1,-1], [ 0, 1]):\n",
    "    model.set_hop(t2*1.j, 1, 1, lvec)\n",
    "  return model"
   ]
  },
  {
   "cell_type": "code",
   "execution_count": 3,
   "id": "rental-adams",
   "metadata": {},
   "outputs": [],
   "source": [
    "# set model parameters and construct bulk model\n",
    "delta=0.7   # site energy shift\n",
    "t=-1.0      # real first-neighbor hopping"
   ]
  },
  {
   "cell_type": "code",
   "execution_count": 4,
   "id": "headed-brook",
   "metadata": {},
   "outputs": [
    {
     "data": {
      "image/png": "[encoded data removed]",
      "text/plain": [
       "<Figure size 504x216 with 2 Axes>"
      ]
     },
     "metadata": {
      "needs_background": "light"
     },
     "output_type": "display_data"
    }
   ],
   "source": [
    "# set up figures\n",
    "fig,ax=plt.subplots(1,2,figsize=(7,3))\n",
    "\n",
    "# run over two choices of t2\n",
    "for j2,t2 in enumerate([-0.10,-0.24]):\n",
    "\n",
    "  my_model=set_model(delta,t,t2)\n",
    "\n",
    "  # set up and solve ribbon model that is finite along direction 1\n",
    "  width=20\n",
    "  nkr=81\n",
    "  ribbon_model=my_model.cut_piece(width,fin_dir=1,glue_edgs=False)\n",
    "  (k_vec,k_dist,k_node)=ribbon_model.k_path('full',nkr,report=False)\n",
    "  (rib_eval,rib_evec)=ribbon_model.solve_all(k_vec,eig_vectors=True)\n",
    "  \n",
    "  nbands=rib_eval.shape[0]\n",
    "  ax1=ax[j2]\n",
    "  \n",
    "  # entanglement spectrum\n",
    "  k0=np.linspace(0.,1.,nkr)\n",
    "  ax1.set_xlim(0.,1.)\n",
    "  ax1.set_ylim(0.,1)\n",
    "  ax1.set_xlabel(r\"$\\kappa_1/2\\pi$\")\n",
    "  ax1.set_ylabel(r\"eigenvalues of $\\rho_A$\")\n",
    "\n",
    "  (nband,nk,norb)=rib_evec.shape\n",
    "  ncut= int(norb/2)\n",
    "  nocc= int(nband/2)\n",
    "\n",
    "  for (i,kv) in enumerate(k0):\n",
    "  \n",
    "    # construct reduced density matrix for half of the chain\n",
    "    dens_mat=np.zeros((ncut,ncut),dtype=complex)\n",
    "    for nb in range(nocc):\n",
    "      for j1 in range(ncut):\n",
    "        for j2 in range(ncut):\n",
    "          dens_mat[j1,j2] += np.conj(rib_evec[nb,i,j1])*rib_evec[nb,i,j2]\n",
    "\n",
    "    # diagonalize\n",
    "    spect=np.real(np.linalg.eigvals(dens_mat))\n",
    "    # scatterplot\n",
    "    s=ax1.scatter([k_vec[i]]*nocc, spect,\n",
    "         s=4, c='k', marker='o', edgecolors='none')\n",
    "\n",
    "# save figure as a PDF\n",
    "aa=ax.flatten()\n",
    "for i,lab in enumerate(['(a)','(b)']):\n",
    "  aa[i].text(-0.45,0.92,lab,size=18.,transform=aa[i].transAxes)\n",
    "fig.tight_layout()\n",
    "plt.subplots_adjust(left=0.15,wspace=0.6)\n",
    "#fig.savefig(\"haldane_entang.pdf\")\n",
    "\n",
    "plt.show()"
   ]
  },
  {
   "cell_type": "code",
   "execution_count": null,
   "id": "pharmaceutical-prospect",
   "metadata": {},
   "outputs": [],
   "source": []
  }
 ],
 "metadata": {
  "kernelspec": {
   "display_name": "Python 3",
   "language": "python",
   "name": "python3"
  },
  "language_info": {
   "codemirror_mode": {
    "name": "ipython",
    "version": 3
   },
   "file_extension": ".py",
   "mimetype": "text/x-python",
   "name": "python",
   "nbconvert_exporter": "python",
   "pygments_lexer": "ipython3",
   "version": "3.7.7"
  }
 },
 "nbformat": 4,
 "nbformat_minor": 5
}
