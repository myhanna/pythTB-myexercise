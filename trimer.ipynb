{
 "cells": [
  {
   "cell_type": "code",
   "execution_count": 1,
   "id": "hybrid-atlanta",
   "metadata": {},
   "outputs": [],
   "source": [
    "# -------------------------------------------------\n",
    "# Tight-binding model for trimer with magnetic flux\n",
    "# -------------------------------------------------\n",
    "\n",
    "from __future__ import print_function # python3 style print\n",
    "from pythtb import *\n",
    "\n",
    "import matplotlib.pyplot as plt\n",
    "from matplotlib import rcParams, cm\n",
    "%matplotlib inline\n",
    "rcParams.update({\"text.usetex\": True, \"font.size\": 16})"
   ]
  },
  {
   "cell_type": "code",
   "execution_count": 2,
   "id": "minimal-martial",
   "metadata": {},
   "outputs": [],
   "source": [
    "# define function to set up model for given (t0,s,phi,alpha)\n",
    "\n",
    "def set_model(t0,s,phi,alpha):\n",
    "    # coordinate space is 2D\n",
    "    lat=[[1.0,0.0],[0.0,1.0]]\n",
    "    # Finite model with three orbitals forming a triangle at unit\n",
    "    # distance from the origin\n",
    "    sqr32=np.sqrt(3.)/2.\n",
    "    orb=np.zeros((3,2),dtype=float)\n",
    "    orb[0,:]=[0.,1.]          # orbital at top vertex\n",
    "    orb[1,:]=[-sqr32,-0.5]    # orbital at lower left\n",
    "    orb[2,:]=[ sqr32,-0.5]    # orbital at lower right\n",
    "      \n",
    "    # compute hoppings [t_01, t_12, t_20]\n",
    "    # s is distortion amplitude; phi is \"pseudorotation angle\"\n",
    "    tpio3=2.0*np.pi/3.0\n",
    "    t=[ t0+s*np.cos(phi), t0+s*np.cos(phi-tpio3), t0+s*np.cos(phi-2.0*tpio3) ]\n",
    "  \n",
    "    # alpha is fraction of flux quantum passing through the triangle\n",
    "    # magnetic flux correction, attached to third bond\n",
    "    t[2]=t[2]*np.exp((1.j)*alpha)\n",
    "  \n",
    "    # set up model (leave site energies at zero)\n",
    "    my_model=tbmodel(0,2,lat,orb)\n",
    "    my_model.set_hop(t[0],0,1)\n",
    "    my_model.set_hop(t[1],1,2)\n",
    "    my_model.set_hop(t[2],2,0)\n",
    "    return(my_model)"
   ]
  },
  {
   "cell_type": "code",
   "execution_count": 3,
   "id": "seven-baseball",
   "metadata": {},
   "outputs": [],
   "source": [
    "# define function to return eigenvectors for given (t0,s,phi,alpha)\n",
    "\n",
    "def get_evecs(t0,s,phi,alpha):\n",
    "    my_model=set_model(t0,s,phi,alpha)\n",
    "    (eval,evec)=my_model.solve_all(eig_vectors=True)\n",
    "    return(evec)        # evec[bands,orbitals]"
   ]
  },
  {
   "cell_type": "code",
   "execution_count": 4,
   "id": "written-glossary",
   "metadata": {},
   "outputs": [
    {
     "name": "stdout",
     "output_type": "stream",
     "text": [
      "---------------------------------------\n",
      "report of tight-binding model\n",
      "---------------------------------------\n",
      "k-space dimension           = 0\n",
      "r-space dimension           = 2\n",
      "number of spin components   = 1\n",
      "periodic directions         = []\n",
      "number of orbitals          = 3\n",
      "number of electronic states = 3\n",
      "lattice vectors:\n",
      " #  0  ===>  [     1.0 ,     0.0 ]\n",
      " #  1  ===>  [     0.0 ,     1.0 ]\n",
      "positions of orbitals:\n",
      " #  0  ===>  [     0.0 ,     1.0 ]\n",
      " #  1  ===>  [  -0.866 ,    -0.5 ]\n",
      " #  2  ===>  [   0.866 ,    -0.5 ]\n",
      "site energies:\n",
      " #  0  ===>       0.0\n",
      " #  1  ===>       0.0\n",
      " #  2  ===>       0.0\n",
      "hoppings:\n",
      "<  0 | H |  1 >     ===>     -1.4 +     0.0 i\n",
      "<  1 | H |  2 >     ===>     -0.8 +     0.0 i\n",
      "<  2 | H |  0 >     ===>  -0.4322 -  0.6732 i\n",
      "hopping distances:\n",
      "|  pos(  0 )  - pos(  1 ) |  =    1.7321\n",
      "|  pos(  1 )  - pos(  2 ) |  =    1.7321\n",
      "|  pos(  2 )  - pos(  0 ) |  =    1.7321\n",
      "\n"
     ]
    }
   ],
   "source": [
    "# begin regular execution\n",
    "\n",
    "# for the purposes of this problem we keep t0 and s fixed\n",
    "t0 =-1.0\n",
    "s  =-0.4\n",
    "ref_model=set_model(t0,s,0.,1.)  # reference with phi=alpha=0\n",
    "ref_model.display()"
   ]
  },
  {
   "cell_type": "code",
   "execution_count": 5,
   "id": "actual-sodium",
   "metadata": {},
   "outputs": [],
   "source": [
    "# define two pi\n",
    "twopi=2.*np.pi"
   ]
  },
  {
   "cell_type": "code",
   "execution_count": 6,
   "id": "enhanced-assault",
   "metadata": {},
   "outputs": [
    {
     "name": "stdout",
     "output_type": "stream",
     "text": [
      "Explcitly computed phi Berry phase at alpha=pi/3 is -0.116\n"
     ]
    }
   ],
   "source": [
    "# compute Berry phase for phi loop explicitly at alpha=pi/3\n",
    "\n",
    "alpha=np.pi/3.\n",
    "n_phi=60\n",
    "psi=np.zeros((n_phi,3),dtype=complex)    # initialize wavefunction array\n",
    "for i in range(n_phi):\n",
    "    phi=float(i)*twopi/float(n_phi)        # 60 equal intervals\n",
    "    psi[i]=get_evecs(t0,s,phi,alpha)[0]    # psi[i] is short for psi[i,:]\n",
    "prod=1.+0.j                              # final [0] picks out band 0\n",
    "for i in range(1,n_phi):\n",
    "    prod=prod*np.vdot(psi[i-1],psi[i]) # <psi_0|psi_1>...<psi_58|psi_59>\n",
    "prod=prod*np.vdot(psi[-1],psi[0])    # include <psi_59|psi_0>\n",
    "berry=-np.angle(prod)                # compute Berry phase\n",
    "print(\"Explcitly computed phi Berry phase at alpha=pi/3 is %6.3f\"% berry)"
   ]
  },
  {
   "cell_type": "code",
   "execution_count": 7,
   "id": "considerable-testing",
   "metadata": {},
   "outputs": [
    {
     "name": "stdout",
     "output_type": "stream",
     "text": [
      "\n",
      "Berry phases for phi loops versus alpha\n",
      "  0   0.000  -0.000\n",
      "  1   0.524  -0.049\n",
      "  2   1.047  -0.116\n",
      "  3   1.571  -0.237\n",
      "  4   2.094  -0.509\n",
      "  5   2.618  -1.263\n",
      "  6   3.142  -3.142\n",
      "  7   3.665   1.263\n",
      "  8   4.189   0.509\n",
      "  9   4.712   0.237\n",
      " 10   5.236   0.116\n",
      " 11   5.760   0.049\n",
      " 12   6.283   0.000\n"
     ]
    }
   ],
   "source": [
    "# compute Berry phases for phi loops for several alpha values\n",
    "# using pythtb wf_array() method\n",
    "\n",
    "alphas=np.linspace(0.,twopi,13)   # 0 to 2pi in 12 increments\n",
    "berry_phi=np.zeros_like(alphas)      # same shape and type array (empty)\n",
    "print(\"\\nBerry phases for phi loops versus alpha\")\n",
    "for j,alpha in enumerate(alphas):\n",
    "\n",
    "  # let phi range from 0 to 2pi in equally spaced steps\n",
    "  n_phi=61\n",
    "  phit=np.linspace(0.,twopi,n_phi)\n",
    "\n",
    "  # set up empty wavefunction array object using pythtb wf_array()\n",
    "  # creates 1D array of length [n_phi], with hidden [nbands,norbs]\n",
    "  evec_array=wf_array(ref_model,[n_phi])\n",
    "\n",
    "  # run over values of phi and fill the array\n",
    "  for k,phi in enumerate(phit[0:-1]):    # skip last point of loop\n",
    "    evec_array[k]=get_evecs(t0,s,phi,alpha)\n",
    "  evec_array[-1]=evec_array[0]   # copy first point to last point of loop\n",
    "\n",
    "  # now compute and store the Berry phase\n",
    "  berry_phi[j]=evec_array.berry_phase([0])   # [0] specifices lowest band\n",
    "  print(\"%3d %7.3f %7.3f\"% (j, alpha, berry_phi[j]))"
   ]
  },
  {
   "cell_type": "code",
   "execution_count": 8,
   "id": "olympic-cooking",
   "metadata": {},
   "outputs": [
    {
     "name": "stdout",
     "output_type": "stream",
     "text": [
      "\n",
      "Berry phases for alpha loops versus phi\n",
      "  0   0.000  -0.518\n",
      "  1   0.524  -0.185\n",
      "  2   1.047  -0.000\n",
      "  3   1.571   0.185\n",
      "  4   2.094   0.518\n",
      "  5   2.618   1.039\n",
      "  6   3.142   1.671\n",
      "  7   3.665   2.374\n",
      "  8   4.189   3.142\n",
      "  9   4.712  -2.374\n",
      " 10   5.236  -1.671\n",
      " 11   5.760  -1.039\n",
      " 12   6.283  -0.518\n"
     ]
    }
   ],
   "source": [
    "# compute Berry phases for alpha loops for several phi values\n",
    "# using pythtb wf_array() method\n",
    "\n",
    "phis=np.linspace(0.,twopi,13)   # 0 to 2pi in 12 increments\n",
    "berry_alpha=np.zeros_like(phis)\n",
    "print(\"\\nBerry phases for alpha loops versus phi\")\n",
    "for j,phi in enumerate(phis):\n",
    "  n_alpha=61\n",
    "  alphat=np.linspace(0.,twopi,n_alpha)\n",
    "  evec_array=wf_array(ref_model,[n_alpha])\n",
    "  for k,alpha in enumerate(alphat[0:-1]):\n",
    "    evec_array[k]=get_evecs(t0,s,phi,alpha)\n",
    "  evec_array[-1]=evec_array[0]\n",
    "  berry_alpha[j]=evec_array.berry_phase([0])\n",
    "  print(\"%3d %7.3f %7.3f\"% (j, phi, berry_alpha[j]))"
   ]
  },
  {
   "cell_type": "code",
   "execution_count": 9,
   "id": "invalid-effort",
   "metadata": {},
   "outputs": [
    {
     "name": "stdout",
     "output_type": "stream",
     "text": [
      "\n",
      "Flux =   6.283 = 2pi *   1.000\n"
     ]
    }
   ],
   "source": [
    "# now illustrate use of wf_array() to set up 2D array\n",
    "# recompute Berry phases and compute Berry curvature\n",
    "\n",
    "n_phi=61\n",
    "n_alp=61\n",
    "n_cells=(n_phi-1)*(n_alp-1)\n",
    "phi=np.linspace(0.,twopi,n_phi)\n",
    "alp=np.linspace(0.,twopi,n_alp)\n",
    "evec_array=wf_array(ref_model,[n_phi,n_alp])  # empty 2D wavefunction array\n",
    "for i in range(n_phi):\n",
    "  for j in range(n_alp):\n",
    "    evec_array[i,j]=get_evecs(t0,s,phi[i],alp[j])\n",
    "evec_array.impose_loop(0)   # copy first to last points in each dimension\n",
    "evec_array.impose_loop(1)\n",
    "\n",
    "bp_of_alp=evec_array.berry_phase([0],0)  # compute phi Berry phases vs. alpha\n",
    "bp_of_phi=evec_array.berry_phase([0],1)  # compute alpha Berry phases vs. phi\n",
    "\n",
    "# compute 2D array of Berry fluxes for band 0\n",
    "flux=evec_array.berry_flux([0])\n",
    "print(\"\\nFlux = %7.3f = 2pi * %7.3f\"% (flux, flux/twopi))\n",
    "curvature=evec_array.berry_flux([0],individual_phases=True)*float(n_cells)"
   ]
  },
  {
   "cell_type": "code",
   "execution_count": 10,
   "id": "touched-loading",
   "metadata": {},
   "outputs": [
    {
     "data": {
      "image/png": "[encoded data removed]",
      "text/plain": [
       "<Figure size 720x288 with 3 Axes>"
      ]
     },
     "metadata": {
      "needs_background": "light"
     },
     "output_type": "display_data"
    }
   ],
   "source": [
    "# plots\n",
    "\n",
    "fig,ax=plt.subplots(1,3,figsize=(10,4),gridspec_kw={'width_ratios':[1,1,2]})\n",
    "(ax0,ax1,ax2)=ax\n",
    "\n",
    "ax0.set_xlim(0.,1.)\n",
    "ax0.set_ylim(-6.5,6.5)\n",
    "ax0.set_xlabel(r\"$\\alpha/2\\pi$\")\n",
    "ax0.set_ylabel(r\"Berry phase $\\phi(\\alpha)$ for $\\varphi$ loops\")\n",
    "ax0.set_title(\"Berry phase\")\n",
    "for shift in (-twopi,0.,twopi):\n",
    "  ax0.plot(alp/twopi,bp_of_alp+shift,color='k')\n",
    "ax0.scatter(alphas/twopi,berry_phi,color='k')\n",
    "\n",
    "ax1.set_xlim(0.,1.)\n",
    "ax1.set_ylim(-6.5,6.5)\n",
    "ax1.set_xlabel(r\"$\\varphi/2\\pi$\")\n",
    "ax1.set_ylabel(r\"Berry phase $\\phi(\\varphi)$ for $\\alpha$ loops\")\n",
    "ax1.set_title(\"Berry phase\")\n",
    "for shift in (-twopi,0.,twopi):\n",
    "  ax1.plot(phi/twopi,bp_of_phi+shift,color='k')\n",
    "ax1.scatter(phis/twopi,berry_alpha,color='k')\n",
    "\n",
    "X=alp[0:-1]/twopi + 0.5/float(n_alp-1)\n",
    "Y=phi[0:-1]/twopi + 0.5/float(n_phi-1)\n",
    "cs=ax2.contour(X,Y,curvature,colors='k')\n",
    "ax2.clabel(cs, inline=1, fontsize=10)\n",
    "ax2.set_title(\"Berry curvature\")\n",
    "ax2.set_xlabel(r\"$\\alpha/2\\pi$\")\n",
    "ax2.set_xlim(0.,1.)\n",
    "ax2.set_ylim(0.,1.)\n",
    "ax2.set_ylabel(r\"$\\varphi/2\\pi$\")\n",
    "\n",
    "fig.tight_layout()\n",
    "#fig.savefig(\"trimer.pdf\")\n",
    "\n",
    "plt.show()"
   ]
  },
  {
   "cell_type": "code",
   "execution_count": null,
   "id": "boring-macedonia",
   "metadata": {},
   "outputs": [],
   "source": []
  }
 ],
 "metadata": {
  "kernelspec": {
   "display_name": "Python 3",
   "language": "python",
   "name": "python3"
  },
  "language_info": {
   "codemirror_mode": {
    "name": "ipython",
    "version": 3
   },
   "file_extension": ".py",
   "mimetype": "text/x-python",
   "name": "python",
   "nbconvert_exporter": "python",
   "pygments_lexer": "ipython3",
   "version": "3.7.7"
  }
 },
 "nbformat": 4,
 "nbformat_minor": 5
}
