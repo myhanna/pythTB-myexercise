{
 "cells": [
  {
   "cell_type": "markdown",
   "id": "false-telling",
   "metadata": {},
   "source": [
    "# Infinite and Finite Three-Site Chain"
   ]
  },
  {
   "cell_type": "code",
   "execution_count": 1,
   "id": "industrial-beads",
   "metadata": {},
   "outputs": [],
   "source": [
    "# --------------------------------\n",
    "# Chain with three sites per cell\n",
    "# --------------------------------\n",
    "\n",
    "from __future__ import print_function # python3 style print\n",
    "from pythtb import *"
   ]
  },
  {
   "cell_type": "code",
   "execution_count": 2,
   "id": "peaceful-radiation",
   "metadata": {},
   "outputs": [],
   "source": [
    "# define function to construct model\n",
    "def set_model(t,delta,lmbd):\n",
    "    lat=[[1.0]]\n",
    "    orb=[[0.0],[1.0/3.0],[2.0/3.0]]\n",
    "    model=tb_model(1,1,lat,orb)\n",
    "    model.set_hop(t, 0, 1, [0])\n",
    "    model.set_hop(t, 1, 2, [0])\n",
    "    model.set_hop(t, 2, 0, [1])\n",
    "    onsite_0=delta*(-1.0)*np.cos(2.0*np.pi*(lmbd-0.0/3.0))\n",
    "    onsite_1=delta*(-1.0)*np.cos(2.0*np.pi*(lmbd-1.0/3.0))\n",
    "    onsite_2=delta*(-1.0)*np.cos(2.0*np.pi*(lmbd-2.0/3.0))\n",
    "    model.set_onsite([onsite_0,onsite_1,onsite_2])\n",
    "    return(model)"
   ]
  },
  {
   "cell_type": "code",
   "execution_count": 3,
   "id": "conscious-uniform",
   "metadata": {},
   "outputs": [
    {
     "name": "stdout",
     "output_type": "stream",
     "text": [
      "Wannier centers of bands 0 and 1:\n",
      "  Individual Wannier centers:  0.3188 0.9092\n",
      "  Multiband  Wannier centers:  0.3419 0.8860\n",
      "\n"
     ]
    }
   ],
   "source": [
    "# construct the model\n",
    "t=-1.3\n",
    "delta=2.0\n",
    "lmbd=0.3\n",
    "my_model=set_model(t,delta,lmbd)\n",
    "\n",
    "# compute the results on a uniform k-point grid\n",
    "evec_array=wf_array(my_model,[21])       # set array dimension\n",
    "evec_array.solve_on_grid([0.])           # fill with eigensolutions\n",
    "\n",
    "# obtain Berry phases and convert to Wannier center positions\n",
    "#   constrained to the interval [0.,1.]\n",
    "wfc0=evec_array.berry_phase([0])/(2.*np.pi)%1.\n",
    "wfc1=evec_array.berry_phase([1])/(2.*np.pi)%1.\n",
    "x=evec_array.berry_phase([0,1],berry_evals=True)/(2.*np.pi)%1.\n",
    "gwfc0=x[0]\n",
    "gwfc1=x[1]\n",
    "\n",
    "print (\"Wannier centers of bands 0 and 1:\")\n",
    "print((\"  Individual\"+\" Wannier centers: \"+2*\"%7.4f\") % (wfc0,wfc1))\n",
    "print((\"  Multiband \"+\" Wannier centers: \"+2*\"%7.4f\") % (gwfc1,gwfc0))\n",
    "print()"
   ]
  },
  {
   "cell_type": "code",
   "execution_count": 4,
   "id": "adequate-lewis",
   "metadata": {},
   "outputs": [
    {
     "name": "stdout",
     "output_type": "stream",
     "text": [
      "Finite-chain eigenenergies associated with\n",
      "Band 0: -3.15 -3.12 -3.08 -3.02 -2.96 -2.88 -2.81 -2.75 -2.69 -2.66\n",
      "Band 1: -0.32 -0.25 -0.14  0.01  0.17  0.34  0.51  0.66  0.77  1.16\n"
     ]
    }
   ],
   "source": [
    "# construct and solve finite model by cutting 10 cells from infinite chain\n",
    "finite_model=my_model.cut_piece(10,0)\n",
    "(feval,fevec)=finite_model.solve_all(eig_vectors=True)\n",
    "\n",
    "print (\"Finite-chain eigenenergies associated with\")\n",
    "print((\"Band 0:\"+10*\"%6.2f\")% tuple(feval[0:10]))\n",
    "print((\"Band 1:\"+10*\"%6.2f\")% tuple(feval[10:20]))"
   ]
  },
  {
   "cell_type": "code",
   "execution_count": 5,
   "id": "welcome-israel",
   "metadata": {},
   "outputs": [
    {
     "name": "stdout",
     "output_type": "stream",
     "text": [
      "\n",
      "Finite-chain Wannier centers associated with band 0:\n",
      " 0.3329 1.3193 2.3188 3.3188 4.3188 5.3188 6.3188 7.3188 8.3184 9.3073\n",
      "Compare with bulk:\n",
      " 0.3188 0.3188 0.3188 0.3188 0.3188 0.3188 0.3188 0.3188 0.3188 0.3188\n",
      "\n",
      "Finite-chain Wannier centers associated with band 1:\n",
      " 0.0697 0.9225 1.9106 2.9093 3.9092 4.9092 5.9093 6.9100 7.9155 8.9548\n",
      "Compare with bulk:\n",
      " 0.9092 0.9092 0.9092 0.9092 0.9092 0.9092 0.9092 0.9092 0.9092 0.9092\n",
      "\n",
      "First 10 finite-chain Wannier centers associated with bands 0 and 1:\n",
      " 0.0195 0.3627 0.8962 1.3436 1.8871 2.3421 2.8861 3.3419 3.8860 4.3419\n",
      "Compare with bulk:\n",
      " 0.8860 0.3419 0.8860 0.3419 0.8860 0.3419 0.8860 0.3419 0.8860 0.3419\n"
     ]
    }
   ],
   "source": [
    "# find maxloc Wannier centers in each band subspace\n",
    "xbar0=finite_model.position_hwf(fevec[0:10,],0)\n",
    "xbar1=finite_model.position_hwf(fevec[10:20,],0)\n",
    "xbarb=finite_model.position_hwf(fevec[0:20,],0)\n",
    "\n",
    "print (\"\\nFinite-chain Wannier centers associated with band 0:\")\n",
    "print((10*\"%7.4f\")% tuple(xbar0))\n",
    "x=10*(wfc0,)\n",
    "print((\"Compare with bulk:\\n\"+10*\"%7.4f\")% x)\n",
    "print (\"\\nFinite-chain Wannier centers associated with band 1:\")\n",
    "print((10*\"%7.4f\")% tuple(xbar1))\n",
    "x=10*(wfc1,)\n",
    "print((\"Compare with bulk:\\n\"+10*\"%7.4f\")% x)\n",
    "print (\"\\nFirst 10 finite-chain Wannier centers associated with bands 0 and 1:\")\n",
    "print((10*\"%7.4f\")% tuple(xbarb[0:10]))\n",
    "x=5*(gwfc0,gwfc1)\n",
    "print((\"Compare with bulk:\\n\"+10*\"%7.4f\")% x)"
   ]
  },
  {
   "cell_type": "code",
   "execution_count": null,
   "id": "dietary-lesson",
   "metadata": {},
   "outputs": [],
   "source": []
  }
 ],
 "metadata": {
  "kernelspec": {
   "display_name": "Python 3",
   "language": "python",
   "name": "python3"
  },
  "language_info": {
   "codemirror_mode": {
    "name": "ipython",
    "version": 3
   },
   "file_extension": ".py",
   "mimetype": "text/x-python",
   "name": "python",
   "nbconvert_exporter": "python",
   "pygments_lexer": "ipython3",
   "version": "3.7.7"
  }
 },
 "nbformat": 4,
 "nbformat_minor": 5
}
