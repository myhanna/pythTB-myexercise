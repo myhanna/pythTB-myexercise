{
 "cells": [
  {
   "cell_type": "markdown",
   "id": "north-sword",
   "metadata": {},
   "source": [
    "# Li on BCC lattice"
   ]
  },
  {
   "cell_type": "code",
   "execution_count": 1,
   "id": "subsequent-agency",
   "metadata": {},
   "outputs": [],
   "source": [
    "# ----------------------------------------------------\n",
    "# 3D model of Li on bcc lattice, with s orbitals only\n",
    "# ----------------------------------------------------\n",
    "\n",
    "from __future__ import print_function # python3 style print\n",
    "from pythtb import * # import TB model class\n",
    "\n",
    "import matplotlib.pyplot as plt\n",
    "from matplotlib import rcParams, cm\n",
    "%matplotlib inline\n",
    "rcParams.update({\"text.usetex\": True, \"font.size\": 16})"
   ]
  },
  {
   "cell_type": "code",
   "execution_count": 2,
   "id": "better-impact",
   "metadata": {},
   "outputs": [],
   "source": [
    "# define lattice vectors\n",
    "lat=[[-0.5, 0.5, 0.5],[ 0.5,-0.5, 0.5],[ 0.5, 0.5,-0.5]]\n",
    "\n",
    "# define coordinates of orbitals\n",
    "orb=[[0.0,0.0,0.0]]"
   ]
  },
  {
   "cell_type": "code",
   "execution_count": 3,
   "id": "architectural-volleyball",
   "metadata": {},
   "outputs": [],
   "source": [
    "# make 3D model\n",
    "my_model=tb_model(3,3,lat,orb)"
   ]
  },
  {
   "cell_type": "code",
   "execution_count": 4,
   "id": "metropolitan-washer",
   "metadata": {},
   "outputs": [],
   "source": [
    "# set model parameters\n",
    "# lattice parameter implicitly set to a=1\n",
    "Es= 4.5    # site energy\n",
    "t =-1.4    # hopping parameter"
   ]
  },
  {
   "cell_type": "code",
   "execution_count": 5,
   "id": "military-genius",
   "metadata": {},
   "outputs": [],
   "source": [
    "# set on-site energy\n",
    "my_model.set_onsite([Es])"
   ]
  },
  {
   "cell_type": "code",
   "execution_count": 6,
   "id": "formed-vulnerability",
   "metadata": {},
   "outputs": [],
   "source": [
    "# set hoppings along four unique bonds\n",
    "# note that neighboring cell must be specified in lattice coordinates\n",
    "# (the corresponding Cartesian coords are given for reference)\n",
    "my_model.set_hop(t, 0, 0, [1,0,0])    # [-0.5, 0.5, 0.5] cartesian\n",
    "my_model.set_hop(t, 0, 0, [0,1,0])    # [ 0.5,-0.5, 0.5] cartesian\n",
    "my_model.set_hop(t, 0, 0, [0,0,1])    # [ 0.5, 0.5,-0.5] cartesian\n",
    "my_model.set_hop(t, 0, 0, [1,1,1])    # [ 0.5, 0.5, 0.5] cartesian"
   ]
  },
  {
   "cell_type": "code",
   "execution_count": 7,
   "id": "fantastic-tragedy",
   "metadata": {},
   "outputs": [
    {
     "name": "stdout",
     "output_type": "stream",
     "text": [
      "---------------------------------------\n",
      "report of tight-binding model\n",
      "---------------------------------------\n",
      "k-space dimension           = 3\n",
      "r-space dimension           = 3\n",
      "number of spin components   = 1\n",
      "periodic directions         = [0, 1, 2]\n",
      "number of orbitals          = 1\n",
      "number of electronic states = 1\n",
      "lattice vectors:\n",
      " #  0  ===>  [    -0.5 ,     0.5 ,     0.5 ]\n",
      " #  1  ===>  [     0.5 ,    -0.5 ,     0.5 ]\n",
      " #  2  ===>  [     0.5 ,     0.5 ,    -0.5 ]\n",
      "positions of orbitals:\n",
      " #  0  ===>  [     0.0 ,     0.0 ,     0.0 ]\n",
      "site energies:\n",
      " #  0  ===>       4.5\n",
      "hoppings:\n",
      "<  0 | H |  0 + [  1 ,  0 ,  0 ] >     ===>     -1.4 +     0.0 i\n",
      "<  0 | H |  0 + [  0 ,  1 ,  0 ] >     ===>     -1.4 +     0.0 i\n",
      "<  0 | H |  0 + [  0 ,  0 ,  1 ] >     ===>     -1.4 +     0.0 i\n",
      "<  0 | H |  0 + [  1 ,  1 ,  1 ] >     ===>     -1.4 +     0.0 i\n",
      "hopping distances:\n",
      "|  pos(  0 )  - pos(  0 + [  1 ,  0 ,  0 ] ) |  =     0.866\n",
      "|  pos(  0 )  - pos(  0 + [  0 ,  1 ,  0 ] ) |  =     0.866\n",
      "|  pos(  0 )  - pos(  0 + [  0 ,  0 ,  1 ] ) |  =     0.866\n",
      "|  pos(  0 )  - pos(  0 + [  1 ,  1 ,  1 ] ) |  =     0.866\n",
      "\n"
     ]
    }
   ],
   "source": [
    "# print tight-binding model\n",
    "my_model.display()"
   ]
  },
  {
   "cell_type": "code",
   "execution_count": 8,
   "id": "dangerous-chance",
   "metadata": {},
   "outputs": [
    {
     "name": "stdout",
     "output_type": "stream",
     "text": [
      "----- k_path report begin ----------\n",
      "real-space lattice vectors\n",
      " [[-0.5  0.5  0.5]\n",
      " [ 0.5 -0.5  0.5]\n",
      " [ 0.5  0.5 -0.5]]\n",
      "k-space metric tensor\n",
      " [[2. 1. 1.]\n",
      " [1. 2. 1.]\n",
      " [1. 1. 2.]]\n",
      "internal coordinates of nodes\n",
      " [[ 0.25  0.25  0.25]\n",
      " [ 0.    0.    0.  ]\n",
      " [-0.5   0.5   0.5 ]]\n",
      "reciprocal-space lattice vectors\n",
      " [[-0.  1.  1.]\n",
      " [ 1.  0.  1.]\n",
      " [ 1.  1.  0.]]\n",
      "cartesian coordinates of nodes\n",
      " [[0.5 0.5 0.5]\n",
      " [0.  0.  0. ]\n",
      " [1.  0.  0. ]]\n",
      "list of segments:\n",
      "  length = 0.86603  from  [0.25 0.25 0.25]  to  [0. 0. 0.]\n",
      "  length =     1.0  from  [0. 0. 0.]  to  [-0.5  0.5  0.5]\n",
      "node distance list: [0.      0.86603 1.86603]\n",
      "node index list:    [  0  46 100]\n",
      "----- k_path report end ------------\n",
      "\n"
     ]
    }
   ],
   "source": [
    "# generate k-point path and labels\n",
    "# again, specified in reciprocal lattice coordinates\n",
    "k_P     = [0.25,0.25,0.25]            # [ 0.5, 0.5, 0.5] cartesian\n",
    "k_Gamma = [ 0.0, 0.0, 0.0]            # [ 0.0, 0.0, 0.0] cartesian\n",
    "k_H     = [-0.5, 0.5, 0.5]            # [ 1.0, 0.0, 0.0] cartesian\n",
    "path=[k_P,k_Gamma,k_H]\n",
    "label=(r'$P$',r'$\\Gamma $',r'$H$')\n",
    "(k_vec,k_dist,k_node)=my_model.k_path(path,101)"
   ]
  },
  {
   "cell_type": "code",
   "execution_count": 9,
   "id": "popular-administration",
   "metadata": {},
   "outputs": [],
   "source": [
    "# solve for eigenenergies of hamiltonian on\n",
    "# the set of k-points from above\n",
    "evals=my_model.solve_all(k_vec)"
   ]
  },
  {
   "cell_type": "code",
   "execution_count": 10,
   "id": "immune-alignment",
   "metadata": {},
   "outputs": [
    {
     "data": {
      "image/png": "[encoded data removed]",
      "text/plain": [
       "<Figure size 288x216 with 1 Axes>"
      ]
     },
     "metadata": {
      "needs_background": "light"
     },
     "output_type": "display_data"
    }
   ],
   "source": [
    "# First make a figure object\n",
    "fig, ax = plt.subplots(figsize=(4.,3.))\n",
    "\n",
    "# specify horizontal axis details\n",
    "ax.set_xlim([0,k_node[-1]])\n",
    "ax.set_xticks(k_node)\n",
    "ax.set_xticklabels(label)\n",
    "for n in range(len(k_node)):\n",
    "    ax.axvline(x=k_node[n], linewidth=0.5, color='k')\n",
    "\n",
    "# plot bands\n",
    "ax.plot(k_dist,evals[0],color='k')\n",
    "# put title\n",
    "ax.set_xlabel(\"Path in k-space\")\n",
    "ax.set_ylabel(\"Band energy\")\n",
    "# make a PDF figure of a plot\n",
    "fig.tight_layout()\n",
    "#fig.savefig(\"li_bsr.pdf\")\n",
    "\n",
    "plt.show()"
   ]
  },
  {
   "cell_type": "code",
   "execution_count": null,
   "id": "formed-soldier",
   "metadata": {},
   "outputs": [],
   "source": []
  }
 ],
 "metadata": {
  "kernelspec": {
   "display_name": "Python 3",
   "language": "python",
   "name": "python3"
  },
  "language_info": {
   "codemirror_mode": {
    "name": "ipython",
    "version": 3
   },
   "file_extension": ".py",
   "mimetype": "text/x-python",
   "name": "python",
   "nbconvert_exporter": "python",
   "pygments_lexer": "ipython3",
   "version": "3.7.7"
  }
 },
 "nbformat": 4,
 "nbformat_minor": 5
}
